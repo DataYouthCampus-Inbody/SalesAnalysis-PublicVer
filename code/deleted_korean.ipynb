{
 "cells": [
  {
   "cell_type": "code",
   "execution_count": 37,
   "source": [
    "import pandas as pd\n",
    "import re"
   ],
   "outputs": [],
   "metadata": {}
  },
  {
   "cell_type": "code",
   "execution_count": 7,
   "source": [
    "path='../resource/OData/'\n",
    "file_name='Contacts_001'\n",
    "csv=pd.read_csv(path+file_name+'.csv')"
   ],
   "outputs": [],
   "metadata": {}
  },
  {
   "cell_type": "code",
   "execution_count": 24,
   "source": [
    "csv['Sales Person'].isnull"
   ],
   "outputs": [
    {
     "output_type": "execute_result",
     "data": {
      "text/plain": [
       "<bound method Series.isnull of 0                   NaN\n",
       "1           Karn Sharma\n",
       "2                   NaN\n",
       "3           Arun Sharma\n",
       "4                   NaN\n",
       "             ...       \n",
       "4140     Mahesh Gulwani\n",
       "4141     Mahesh Gulwani\n",
       "4142    Neelabh Kashyap\n",
       "4143     Mahesh Gulwani\n",
       "4144     Mahesh Gulwani\n",
       "Name: Sales Person, Length: 4145, dtype: object>"
      ]
     },
     "metadata": {},
     "execution_count": 24
    }
   ],
   "metadata": {}
  },
  {
   "cell_type": "code",
   "execution_count": 27,
   "source": [
    "csv['Full Name']"
   ],
   "outputs": [
    {
     "output_type": "execute_result",
     "data": {
      "text/plain": [
       "0          Suresh Mohan\n",
       "1           Satya Sinha\n",
       "2         Vivek K Rahul\n",
       "3        Abhishek Nandy\n",
       "4       Sreejoy Patnaik\n",
       "             ...       \n",
       "4140     Hiral Raimagia\n",
       "4141    Vijay Vanpariya\n",
       "4142      Mayur Bhavsar\n",
       "4143       Talib sheikh\n",
       "4144        Murali Nair\n",
       "Name: Full Name, Length: 4145, dtype: object"
      ]
     },
     "metadata": {},
     "execution_count": 27
    }
   ],
   "metadata": {}
  },
  {
   "cell_type": "code",
   "execution_count": 32,
   "source": [
    "for row in csv['Full Name']:\n",
    "    if row.isascii()==False:\n",
    "        print(row)"
   ],
   "outputs": [
    {
     "output_type": "stream",
     "name": "stdout",
     "text": [
      "김영국 -\n",
      "#윤정훈 -\n",
      "#최연희 -\n",
      "팩토리24 대표님\n",
      "앤비휘트니스\n",
      "#심승용 -\n",
      "#김성태 -\n",
      "인준 차\n",
      "박현진 -\n",
      "#서범석 -\n",
      "#최태준 -\n",
      "#장정화 -\n",
      "김도성 인바디 -\n",
      "#황보람 -\n",
      "#한기용 -\n",
      "#한기용 -\n",
      "#黃承繹 -\n",
      "#이승국 -\n",
      "#박재성 -\n",
      "#걸구네 -\n",
      "#박혜조 -\n",
      "#김주환 -\n",
      "#김선하 -\n",
      "임현미 -\n",
      "#임정훈 -\n",
      "Golds Gym ,East of kailash, Delhi\n",
      "F2 FUN & FITNESS INDIA PVT. LTD., (GOLD’S GYM INDIA)\n",
      "고영찬 -\n",
      "#김기대 -\n",
      "안종성 -\n",
      "#이인 -\n",
      "#장진영 -\n",
      "#윤용희 -\n",
      "도성1\n",
      "도성\n",
      "정윤서 -\n",
      "Dr.Bhavsar's Cosmetic Clinic \n",
      "F2 & FITNESS INDIA PVT. LTD., (GOLD’S GYM INDIA)\n",
      "Ozone ‘n’ Spa\n",
      "SHANTI’S & FITNESS CLUB LLP\n",
      "#박지훈 -\n",
      "#장민홍 -\n",
      "#김승욱 -\n",
      "#김재철 -\n",
      "#임성식 -\n",
      "#안영진 -\n",
      "#고준석 -\n",
      "#이승은 -\n",
      "#김규식 -\n",
      "#권평오 -\n",
      "#박현성 -\n",
      "#최영수 -\n",
      "#박영필 -\n",
      "#최은희 -\n",
      "#Jejung Jun 전제정 -\n",
      "#김현재 -\n",
      "#양희성 -\n",
      "#서인우 -\n",
      "#유지수 -\n",
      "#정종욱 -\n",
      "#이규엽 -\n",
      "#전세준 -\n",
      "#윤정원 -\n",
      "#차현태 -\n",
      "#김우진 -\n",
      "#김민선 -\n",
      "#임성균 -\n",
      "#차영민 -\n",
      "#오형준 -\n",
      "#이재훈 -\n",
      "#정근식 -\n",
      "#김봉석 -\n",
      "#예승해 -\n",
      "#송인옥 -\n",
      "#민지윤 -\n",
      "#민지윤 -\n",
      "#홍지명 -\n"
     ]
    }
   ],
   "metadata": {}
  },
  {
   "cell_type": "code",
   "execution_count": 63,
   "source": [
    "for i in range(len(csv['Full Name'])):\n",
    "    hangul=re.compile('[ㄱ-ㅎ|가-힣]+')\n",
    "    name=hangul.findall(csv['Full Name'][i]) \n",
    "    if len(name)!=0:\n",
    "        csv=csv.drop(i)\n",
    "               "
   ],
   "outputs": [],
   "metadata": {}
  },
  {
   "cell_type": "code",
   "execution_count": 65,
   "source": [
    "csv['Full Name']"
   ],
   "outputs": [
    {
     "output_type": "execute_result",
     "data": {
      "text/plain": [
       "0          Suresh Mohan\n",
       "1           Satya Sinha\n",
       "2         Vivek K Rahul\n",
       "3        Abhishek Nandy\n",
       "4       Sreejoy Patnaik\n",
       "             ...       \n",
       "4140     Hiral Raimagia\n",
       "4141    Vijay Vanpariya\n",
       "4142      Mayur Bhavsar\n",
       "4143       Talib sheikh\n",
       "4144        Murali Nair\n",
       "Name: Full Name, Length: 4075, dtype: object"
      ]
     },
     "metadata": {},
     "execution_count": 65
    }
   ],
   "metadata": {}
  },
  {
   "cell_type": "code",
   "execution_count": null,
   "source": [],
   "outputs": [],
   "metadata": {}
  },
  {
   "cell_type": "code",
   "execution_count": 66,
   "source": [
    "#한국말 있는지 확인\n",
    "korean=[]\n",
    "for row in csv['Full Name']:\n",
    "    hangul=re.compile('[ㄱ-ㅎ|가-힣]+')\n",
    "    #print(hangul.findall(row))\n",
    "    name=hangul.findall(row)\n",
    "    if len(name)!=0:\n",
    "        korean.append(name)\n",
    "korean"
   ],
   "outputs": [
    {
     "output_type": "execute_result",
     "data": {
      "text/plain": [
       "[]"
      ]
     },
     "metadata": {},
     "execution_count": 66
    }
   ],
   "metadata": {}
  },
  {
   "cell_type": "code",
   "execution_count": null,
   "source": [],
   "outputs": [],
   "metadata": {}
  },
  {
   "cell_type": "code",
   "execution_count": null,
   "source": [
    "#1.sales man이 NaN값인 row를 찾는다.\n",
    "\n",
    "#2.Customer Owner ID값을 통해 빈값을 채워 넣는다.(Customer Owner ID:\"Sales Person\"으로의 dict생성필요)\n",
    "#.territory값이 None값인 row를 찾는다."
   ],
   "outputs": [],
   "metadata": {}
  }
 ],
 "metadata": {
  "orig_nbformat": 4,
  "language_info": {
   "name": "python",
   "version": "3.8.10",
   "mimetype": "text/x-python",
   "codemirror_mode": {
    "name": "ipython",
    "version": 3
   },
   "pygments_lexer": "ipython3",
   "nbconvert_exporter": "python",
   "file_extension": ".py"
  },
  "kernelspec": {
   "name": "python3",
   "display_name": "Python 3.8.10 64-bit ('base': conda)"
  },
  "interpreter": {
   "hash": "3487794f711f8ca231291fa5deaa4d4e5fbd58ab164c12271b8f0b3dc534bcb9"
  }
 },
 "nbformat": 4,
 "nbformat_minor": 2
}