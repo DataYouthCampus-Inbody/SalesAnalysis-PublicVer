{
 "cells": [
  {
   "cell_type": "code",
   "execution_count": 3,
   "id": "510344b0",
   "metadata": {},
   "outputs": [],
   "source": [
    "import pandas as pd\n",
    "from selenium import webdriver\n",
    "from bs4 import BeautifulSoup\n",
    "import time"
   ]
  },
  {
   "cell_type": "code",
   "execution_count": 4,
   "id": "8a6b74d2",
   "metadata": {},
   "outputs": [],
   "source": [
    "driver_path = '../../resource/exe/chromedriver.exe'\n",
    "url = 'https://www.google.co.kr/maps/@19.0753242,72.7389776,11z?hl=us'"
   ]
  },
  {
   "cell_type": "code",
   "execution_count": 5,
   "id": "2d73bbfb",
   "metadata": {},
   "outputs": [],
   "source": [
    "browser = webdriver.Chrome(executable_path = driver_path) #Chrome driver\n",
    "# browser.get(url)\n",
    "\n",
    "# page = browser.page_source\n",
    "# soup = BeautifulSoup(page, \"html.parser\")   #html파싱하겠다~\n",
    "dataList=[]\n",
    "csv={'Category':[]}"
   ]
  },
  {
   "cell_type": "code",
   "execution_count": 37,
   "id": "60f48172",
   "metadata": {},
   "outputs": [],
   "source": [
    "csv={'Category':[]}"
   ]
  },
  {
   "cell_type": "code",
   "execution_count": 20,
   "id": "25ca4272",
   "metadata": {},
   "outputs": [],
   "source": [
    "def searchPlace(search_name):\n",
    "        searchBox = browser.find_element_by_id(\"searchboxinput\")\n",
    "        searchBox.send_keys(search_name)\n",
    "        submit = browser.find_element_by_xpath(\"/html/body/jsl/div[3]/div[9]/div[3]/div[1]/div[1]/div[1]/div[2]/div[1]/button\")\n",
    "        submit.click()\n",
    "        time.sleep(2)"
   ]
  },
  {
   "cell_type": "code",
   "execution_count": 7,
   "id": "9aa101d2",
   "metadata": {},
   "outputs": [],
   "source": [
    "def scrollDown():\n",
    "    itemlist=browser.find_element_by_xpath('//*[@id=\"pane\"]/div/div[1]/div/div/div[4]/div[1]')\n",
    "    browser.execute_script('arguments[0].scrollBy(0, 1000)',itemlist)\n",
    "    time.sleep(1)\n",
    "            #스크롤 끝까지 다운"
   ]
  },
  {
   "cell_type": "code",
   "execution_count": 48,
   "id": "58a5bb29",
   "metadata": {},
   "outputs": [],
   "source": [
    "def scrapperPlace():\n",
    "    try:\n",
    "        for data in dataList:\n",
    "            #해당 키워드를 검색\n",
    "            searchPlace(data)\n",
    "        #카테고리 긁어오기\n",
    "            classes=browser.find_elements_by_class_name('widget-pane-link')\n",
    "            for target in classes:\n",
    "                if 'hospital' in target.text or 'Hospital' in target.text:\n",
    "                    csv['Category'].append(target.text)\n",
    "                    print(target.text)\n",
    "                    break\n",
    "\n",
    "            #카테고리의 고유 jsaction은 pane.rating.category\n",
    "            browser.back()\n",
    "            browser.implicitly_wait(time_to_wait=5)\n",
    "    except:\n",
    "            details=browser.find_elements_by_class_name('a4gq8e-aVTXAb-haAclf-jRmmHf-hSRGPd')\n",
    "            detail_button=details[3]\n",
    "            detail_button.click()# j번쨰 뷰로 들어감.\n",
    "            scrapperPlace()"
   ]
  },
  {
   "cell_type": "code",
   "execution_count": 45,
   "id": "a8d53498",
   "metadata": {},
   "outputs": [],
   "source": [
    "searchPlace('Goa Medical College and Hospital, Bambolim')"
   ]
  },
  {
   "cell_type": "code",
   "execution_count": 49,
   "id": "378a5213",
   "metadata": {},
   "outputs": [],
   "source": [
    "classes=browser.find_elements_by_class_name('widget-pane-link')\n",
    "for target in classes:\n",
    "    if 'reviews' not in target.text and target.text !='':\n",
    "        csv['Category'].append(target.text)\n",
    "        break"
   ]
  },
  {
   "cell_type": "code",
   "execution_count": 52,
   "id": "4e84dc47",
   "metadata": {
    "scrolled": true
   },
   "outputs": [
    {
     "name": "stdout",
     "output_type": "stream",
     "text": [
      "{'Category': ['Private hospital', 'Medical school']}\n"
     ]
    }
   ],
   "source": [
    "print(csv)"
   ]
  },
  {
   "cell_type": "code",
   "execution_count": 51,
   "id": "44a697ef",
   "metadata": {},
   "outputs": [],
   "source": [
    "scrapperPlace()"
   ]
  },
  {
   "cell_type": "code",
   "execution_count": null,
   "id": "8c3d65f8",
   "metadata": {},
   "outputs": [],
   "source": []
  }
 ],
 "metadata": {
  "kernelspec": {
   "display_name": "Python 3",
   "language": "python",
   "name": "python3"
  },
  "language_info": {
   "codemirror_mode": {
    "name": "ipython",
    "version": 3
   },
   "file_extension": ".py",
   "mimetype": "text/x-python",
   "name": "python",
   "nbconvert_exporter": "python",
   "pygments_lexer": "ipython3",
   "version": "3.8.10"
  }
 },
 "nbformat": 4,
 "nbformat_minor": 5
}
