{
 "cells": [
  {
   "cell_type": "code",
   "execution_count": 3,
   "source": [
    "import pandas as pd\n",
    "import re\n"
   ],
   "outputs": [],
   "metadata": {}
  },
  {
   "cell_type": "code",
   "execution_count": 7,
   "source": [
    "#143개 채움\n",
    "path='../resource/CleansedData/ModifiedData/'\n",
    "file_name='Accounts_001_droppedCol_deleted_korean'\n",
    "csv=pd.read_csv(path+file_name+'.csv')\n",
    "save_as='../resource/CleansedData/ModifiedData/Accounts_001_unique_id.csv'"
   ],
   "outputs": [],
   "metadata": {}
  },
  {
   "cell_type": "code",
   "execution_count": 25,
   "source": [
    "ids=set()\n",
    "cnt=0\n",
    "for id in csv['Company Owner ID']:\n",
    "        ids.add(id)\n",
    "len(ids)"
   ],
   "outputs": [
    {
     "output_type": "execute_result",
     "data": {
      "text/plain": [
       "34"
      ]
     },
     "metadata": {},
     "execution_count": 25
    }
   ],
   "metadata": {}
  },
  {
   "cell_type": "code",
   "execution_count": 14,
   "source": [
    "print(ids)"
   ],
   "outputs": [
    {
     "output_type": "stream",
     "name": "stdout",
     "text": [
      "{'zcrm_1920545000016756022', 'zcrm_1920545000011182001', 'zcrm_1920545000000243029', 'zcrm_1920545000001695001', 'zcrm_1920545000004627001', 'zcrm_1920545000003466001', 'zcrm_1920545000016873076', 'zcrm_1920545000012068004', 'zcrm_1920545000020152001', 'zcrm_1920545000001670001', 'zcrm_1920545000001450001', 'zcrm_1920545000002263009', 'zcrm_1920545000000511027', 'zcrm_1920545000019402107', 'zcrm_1920545000000117001', 'zcrm_1920545000000243023', 'zcrm_1920545000008345001', 'zcrm_1920545000018425001', 'zcrm_1920545000002486001', 'zcrm_1920545000012187001', 'zcrm_1920545000011122001', 'zcrm_1920545000001029001', 'zcrm_1920545000000243011', 'zcrm_1920545000012077001', 'zcrm_1920545000008102001', 'zcrm_1920545000015984001', 'zcrm_1920545000001530001', 'zcrm_1920545000000097003', 'zcrm_1920545000011016001', 'zcrm_1920545000001284001', 'zcrm_1920545000003684080', 'zcrm_1920545000019402097', 'zcrm_1920545000000366006', 'zcrm_1920545000012076001'}\n"
     ]
    }
   ],
   "metadata": {}
  },
  {
   "cell_type": "code",
   "execution_count": 20,
   "source": [
    "mapping={}\n",
    "for id in ids:\n",
    "    mapping[id]=set()"
   ],
   "outputs": [],
   "metadata": {}
  },
  {
   "cell_type": "code",
   "execution_count": 21,
   "source": [
    "\n",
    "\n",
    "for i in range(len(csv['Company Owner ID'])):\n",
    "    if csv['Company Owner ID'][i] in ids:\n",
    "            mapping[csv['Company Owner ID'][i]].add(csv['Territories'][i])\n",
    "print(mapping)"
   ],
   "outputs": [
    {
     "output_type": "stream",
     "name": "stdout",
     "text": [
      "{'zcrm_1920545000016756022': {nan, 'North', 'West 1', 'South', 'East'}, 'zcrm_1920545000011182001': {nan, 'South'}, 'zcrm_1920545000000243029': {nan, 'West 1'}, 'zcrm_1920545000001695001': {nan, 'West 1', 'East'}, 'zcrm_1920545000004627001': {'South'}, 'zcrm_1920545000003466001': {nan, 'North, East', 'North', 'South, West 1', 'South', 'West 1', 'West 2', 'East'}, 'zcrm_1920545000016873076': {nan, 'North', 'West 1', 'South', 'West 2', 'East'}, 'zcrm_1920545000012068004': {nan, 'West 1', 'East'}, 'zcrm_1920545000020152001': {'West 1', 'South', 'North'}, 'zcrm_1920545000001670001': {nan, 'North, West 1', 'North', 'West 1', 'South', 'West 2'}, 'zcrm_1920545000001450001': {nan, 'West 1', 'West 2'}, 'zcrm_1920545000002263009': {nan, 'North', 'South', 'West 1', 'West 2', 'East'}, 'zcrm_1920545000000511027': {nan, 'North', 'East, West 1', 'West 1', 'West 2', 'East'}, 'zcrm_1920545000019402107': {nan, 'West 1', 'East'}, 'zcrm_1920545000000117001': {nan, 'North', 'South, North', 'South', 'West 1', 'West 2', 'South, West 2', 'East'}, 'zcrm_1920545000000243023': {nan, 'West 1'}, 'zcrm_1920545000008345001': {nan, 'North', 'West 1', 'South', 'West 2', 'East'}, 'zcrm_1920545000018425001': {nan, 'West 2'}, 'zcrm_1920545000002486001': {nan, 'North', 'South', 'West 1', 'West 2', 'East'}, 'zcrm_1920545000012187001': {nan, 'West 1'}, 'zcrm_1920545000011122001': {nan, 'West 1', 'North'}, 'zcrm_1920545000001029001': {'West 1', 'West 2', 'East'}, 'zcrm_1920545000000243011': {nan, 'North', 'South, North', 'West 1', 'South', 'West 2', 'East'}, 'zcrm_1920545000012077001': {nan, 'East', 'North'}, 'zcrm_1920545000008102001': {nan, 'West 1'}, 'zcrm_1920545000015984001': {'West 2'}, 'zcrm_1920545000001530001': {nan, 'North, West 2', 'North, West 1', 'North', 'West 1', 'West 2', 'East'}, 'zcrm_1920545000000097003': {nan, 'North, West 2', 'North, West 1', 'North', 'South, North', 'North, East', 'South, West 1', 'East, West 1', 'South', 'West 1', 'West 1, West 2', 'West 2', 'South, East', 'South, West 2', 'East'}, 'zcrm_1920545000011016001': {nan, 'South', 'West 2'}, 'zcrm_1920545000001284001': {nan, 'South, North', 'North', 'West 1', 'South', 'West 2', 'East'}, 'zcrm_1920545000003684080': {nan, 'West 1', 'South', 'East'}, 'zcrm_1920545000019402097': {'West 1'}, 'zcrm_1920545000000366006': {nan, 'South, West 1', 'South', 'West 1', 'West 2', 'East'}, 'zcrm_1920545000012076001': {nan, 'West 1'}}\n"
     ]
    }
   ],
   "metadata": {}
  },
  {
   "cell_type": "code",
   "execution_count": null,
   "source": [
    "\n",
    "#zcrm_1920545000011182001,\n",
    "# zcrm_1920545000000243029,\n",
    "# zcrm_1920545000004627001,\n",
    "# zcrm_1920545000000243023,\n",
    "# zcrm_1920545000018425001,\n",
    "# zcrm_1920545000012187001,\n",
    "# zcrm_1920545000008102001,\n",
    "# zcrm_1920545000015984001\n",
    "#zcrm_1920545000015984001,\n",
    "# zcrm_1920545000012076001"
   ],
   "outputs": [],
   "metadata": {}
  },
  {
   "cell_type": "code",
   "execution_count": 26,
   "source": [
    "only_ids=set()\n",
    "\n",
    "only_ids.add('zcrm_1920545000011182001')\n",
    "only_ids.add( 'zcrm_1920545000000243029')\n",
    "only_ids.add( 'zcrm_1920545000004627001')\n",
    "only_ids.add( 'zcrm_1920545000000243023')\n",
    "only_ids.add( 'zcrm_1920545000018425001')\n",
    "only_ids.add( 'zcrm_1920545000012187001')\n",
    "only_ids.add( 'zcrm_1920545000008102001')\n",
    "only_ids.add( 'zcrm_1920545000015984001')\n",
    "only_ids.add('zcrm_1920545000015984001')\n",
    "only_ids.add( 'zcrm_1920545000012076001')"
   ],
   "outputs": [],
   "metadata": {}
  },
  {
   "cell_type": "code",
   "execution_count": 35,
   "source": [
    "cnt=0\n",
    "for i in range(len(csv['Territories'])):\n",
    "    if csv['Company Owner ID'][i] in only_ids:\n",
    "            csv['Territories'][i]=str(mapping[csv['Company Owner ID'][i]])\n",
    "            cnt+=1\n",
    "print(cnt)"
   ],
   "outputs": [
    {
     "output_type": "stream",
     "name": "stdout",
     "text": [
      "143\n"
     ]
    }
   ],
   "metadata": {}
  },
  {
   "cell_type": "code",
   "execution_count": 33,
   "source": [],
   "outputs": [
    {
     "output_type": "stream",
     "name": "stdout",
     "text": [
      "3976\n"
     ]
    }
   ],
   "metadata": {}
  },
  {
   "cell_type": "code",
   "execution_count": 32,
   "source": [
    "csv.to_csv('cleansed_id_torritory.csv',index=False)"
   ],
   "outputs": [],
   "metadata": {}
  }
 ],
 "metadata": {
  "orig_nbformat": 4,
  "language_info": {
   "name": "python"
  }
 },
 "nbformat": 4,
 "nbformat_minor": 2
}