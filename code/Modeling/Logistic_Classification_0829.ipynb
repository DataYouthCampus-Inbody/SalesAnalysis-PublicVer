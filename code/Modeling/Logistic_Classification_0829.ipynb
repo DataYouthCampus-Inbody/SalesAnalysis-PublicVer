{
  "nbformat": 4,
  "nbformat_minor": 0,
  "metadata": {
    "colab": {
      "name": "Logistic_Classification_0829.ipynb",
      "provenance": [],
      "collapsed_sections": []
    },
    "kernelspec": {
      "name": "python3",
      "display_name": "Python 3"
    },
    "language_info": {
      "name": "python"
    }
  },
  "cells": [
    {
      "cell_type": "code",
      "metadata": {
        "id": "nPlDsJRD78hz",
        "colab": {
          "base_uri": "https://localhost:8080/"
        },
        "outputId": "46114af6-fc4b-4969-d7d4-2d01fb84691e"
      },
      "source": [
        "import numpy as np\n",
        "import matplotlib.pyplot as plt\n",
        "from sklearn import svm\n",
        "from sklearn.preprocessing import StandardScaler\n",
        "from google.colab import drive\n",
        "import pandas as pd\n",
        "from sklearn.model_selection import train_test_split\n",
        "from sklearn import preprocessing\n",
        "drive.mount('/content/drive')\n"
      ],
      "execution_count": 1,
      "outputs": [
        {
          "output_type": "stream",
          "text": [
            "Mounted at /content/drive\n"
          ],
          "name": "stdout"
        }
      ]
    },
    {
      "cell_type": "code",
      "metadata": {
        "id": "IBY9i9nc8Ars",
        "colab": {
          "base_uri": "https://localhost:8080/"
        },
        "outputId": "f6a3117f-19c0-463e-af0e-76d2cf66b805"
      },
      "source": [
        "# Load the Dataset\n",
        "deal = pd.read_csv('/content/drive/MyDrive/데청캠_인바디/ZohoCRM_Dataset/deal_closed_prediction_data.csv')\n",
        "\n",
        "print(deal)\n",
        "\n",
        "X = deal[['Year', 'Month', 'Day', 'LeadSource', 'Territory', 'Industry']]\n",
        "y = deal[['Stage']]\n",
        "\n",
        "print(y.value_counts())\n",
        "\n",
        "# StandarScaler 적용\n",
        "# scaler = StandardScaler()\n",
        "# scaler.fit(X)\n",
        "# X_scaled = scaler.transform(X)\n",
        "\n",
        "# Min-Max Scaling\n",
        "scaler = preprocessing.MinMaxScaler(feature_range=(0, 1))\n",
        "scaler = scaler.fit(X) \n",
        "scaled_X = scaler.transform(X) "
      ],
      "execution_count": 4,
      "outputs": [
        {
          "output_type": "stream",
          "text": [
            "      Year  Month  Day  LeadSource    Territory       Industry  Stage\n",
            "0     2017      2    7    0.000458    50.000000  132320.620804      0\n",
            "1     2017      2    7    0.000458    50.000000  132320.620804      0\n",
            "2     2017      2    7    0.000458  3430.305858  132320.620804      1\n",
            "3     2017      2    7    0.000458  1394.639984   61963.087644      1\n",
            "4     2017      2   14    0.000458    50.000000  132320.620804      1\n",
            "...    ...    ...  ...         ...          ...            ...    ...\n",
            "2136  2021      7   24   32.692308   645.756033    1430.564418      0\n",
            "2137  2021      7   26   25.000000   645.756033    1430.564418      0\n",
            "2138  2021      7   26   25.000000  1014.059096    2727.317659      0\n",
            "2139  2021      7   26   40.384615   645.756033    2727.317659      0\n",
            "2140  2021      7   26   32.692308   645.756033    1073.495543      0\n",
            "\n",
            "[2141 rows x 7 columns]\n",
            "Stage\n",
            "0        1212\n",
            "1         929\n",
            "dtype: int64\n"
          ],
          "name": "stdout"
        }
      ]
    },
    {
      "cell_type": "code",
      "metadata": {
        "colab": {
          "base_uri": "https://localhost:8080/"
        },
        "id": "ysSwQmKhX8sG",
        "outputId": "76521c91-755a-43b6-83e2-4b8a005160be"
      },
      "source": [
        "# Split the Dataset\n",
        "X_train, X_test, y_train, y_test = train_test_split(scaled_X , y, test_size=0.3, random_state=1)\n",
        "\n",
        "print(X_train.shape)\n",
        "print(y_test.shape)"
      ],
      "execution_count": 5,
      "outputs": [
        {
          "output_type": "stream",
          "text": [
            "(1498, 6)\n",
            "(643, 1)\n"
          ],
          "name": "stdout"
        }
      ]
    },
    {
      "cell_type": "code",
      "metadata": {
        "colab": {
          "base_uri": "https://localhost:8080/"
        },
        "id": "GFUiGQLZX5Zu",
        "outputId": "7715ccd3-9bcf-46b1-9890-558030111ab8"
      },
      "source": [
        "from sklearn.linear_model import LogisticRegression\n",
        "model = LogisticRegression()\n",
        "model.fit(X_train, y_train)\n",
        "\n",
        "# 0.8118195956454122\n",
        "print(model.score(X_test, y_test))"
      ],
      "execution_count": 6,
      "outputs": [
        {
          "output_type": "stream",
          "text": [
            "0.8118195956454122\n"
          ],
          "name": "stdout"
        },
        {
          "output_type": "stream",
          "text": [
            "/usr/local/lib/python3.7/dist-packages/sklearn/utils/validation.py:760: DataConversionWarning: A column-vector y was passed when a 1d array was expected. Please change the shape of y to (n_samples, ), for example using ravel().\n",
            "  y = column_or_1d(y, warn=True)\n"
          ],
          "name": "stderr"
        }
      ]
    }
  ]
}