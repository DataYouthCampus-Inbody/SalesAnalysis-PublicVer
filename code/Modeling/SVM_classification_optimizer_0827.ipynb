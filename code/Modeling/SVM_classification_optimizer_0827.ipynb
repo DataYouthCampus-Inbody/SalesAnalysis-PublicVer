{
  "nbformat": 4,
  "nbformat_minor": 0,
  "metadata": {
    "colab": {
      "name": "SVM_classification_optimizer_0827.ipynb",
      "provenance": [],
      "collapsed_sections": []
    },
    "kernelspec": {
      "name": "python3",
      "display_name": "Python 3"
    },
    "language_info": {
      "name": "python"
    },
    "accelerator": "GPU"
  },
  "cells": [
    {
      "cell_type": "code",
      "metadata": {
        "id": "8CQlzv6cFBjM"
      },
      "source": [
        "!pip install --quiet optuna"
      ],
      "execution_count": null,
      "outputs": []
    },
    {
      "cell_type": "code",
      "metadata": {
        "colab": {
          "base_uri": "https://localhost:8080/"
        },
        "id": "uDKJR5mkmLA-",
        "outputId": "e4e47bb4-01bf-4fa7-a603-5e1c3d4fe21e"
      },
      "source": [
        "import numpy as np\n",
        "import matplotlib.pyplot as plt\n",
        "from sklearn import svm\n",
        "from sklearn.preprocessing import StandardScaler\n",
        "from google.colab import drive\n",
        "import pandas as pd\n",
        "from sklearn.model_selection import train_test_split\n",
        "from sklearn import preprocessing\n",
        "drive.mount('/content/drive')\n",
        "\n",
        "import optuna"
      ],
      "execution_count": null,
      "outputs": [
        {
          "output_type": "stream",
          "text": [
            "Drive already mounted at /content/drive; to attempt to forcibly remount, call drive.mount(\"/content/drive\", force_remount=True).\n"
          ],
          "name": "stdout"
        }
      ]
    },
    {
      "cell_type": "code",
      "metadata": {
        "colab": {
          "base_uri": "https://localhost:8080/"
        },
        "id": "hbJ-fiqnrFrp",
        "outputId": "bcae278c-5333-4be6-fd75-6f7f1c55b54e"
      },
      "source": [
        "# Load the Dataset\n",
        "deal = pd.read_csv('/content/drive/MyDrive/데청캠_인바디/ZohoCRM_Dataset/deal_closed_prediction_data.csv')\n",
        "\n",
        "print(deal)\n",
        "\n",
        "X = deal[['Year', 'Month', 'Day', 'LeadSource', 'Territory', 'Industry']]\n",
        "y = deal[['Stage']]\n",
        "\n",
        "print(y.value_counts())\n",
        "\n",
        "# StandarScaler 적용\n",
        "# scaler = StandardScaler()\n",
        "# scaler.fit(X)\n",
        "# X_scaled = scaler.transform(X)\n",
        "\n",
        "# Min-Max Scaling\n",
        "scaler = preprocessing.MinMaxScaler(feature_range=(0, 1))\n",
        "scaler = scaler.fit(X) \n",
        "scaled = scaler.transform(X) "
      ],
      "execution_count": 48,
      "outputs": [
        {
          "output_type": "stream",
          "text": [
            "      Year  Month  Day  LeadSource    Territory       Industry  Stage\n",
            "0     2017      2    7    0.000458    50.000000  132320.620804      0\n",
            "1     2017      2    7    0.000458    50.000000  132320.620804      0\n",
            "2     2017      2    7    0.000458  3430.305858  132320.620804      1\n",
            "3     2017      2    7    0.000458  1394.639984   61963.087644      1\n",
            "4     2017      2   14    0.000458    50.000000  132320.620804      1\n",
            "...    ...    ...  ...         ...          ...            ...    ...\n",
            "2136  2021      7   24   32.692308   645.756033    1430.564418      0\n",
            "2137  2021      7   26   25.000000   645.756033    1430.564418      0\n",
            "2138  2021      7   26   25.000000  1014.059096    2727.317659      0\n",
            "2139  2021      7   26   40.384615   645.756033    2727.317659      0\n",
            "2140  2021      7   26   32.692308   645.756033    1073.495543      0\n",
            "\n",
            "[2141 rows x 7 columns]\n",
            "Stage\n",
            "0        1212\n",
            "1         929\n",
            "dtype: int64\n"
          ],
          "name": "stdout"
        }
      ]
    },
    {
      "cell_type": "code",
      "metadata": {
        "colab": {
          "base_uri": "https://localhost:8080/"
        },
        "id": "UEYwA7_JQE5C",
        "outputId": "a4d25e8c-959e-46ad-d194-74766f3ebb61"
      },
      "source": [
        "# Split the Dataset\n",
        "X_train, X_test, y_train, y_test = train_test_split(scaled , y, test_size=0.3, random_state=1)\n",
        "\n",
        "print(X_train.shape)\n",
        "print(y_test.shape)"
      ],
      "execution_count": 49,
      "outputs": [
        {
          "output_type": "stream",
          "text": [
            "(1498, 6)\n",
            "(643, 1)\n"
          ],
          "name": "stdout"
        }
      ]
    },
    {
      "cell_type": "code",
      "metadata": {
        "colab": {
          "base_uri": "https://localhost:8080/"
        },
        "id": "o3hXAoNpRR5o",
        "outputId": "58eccebf-ed30-4260-b503-ad0dff9f4a98"
      },
      "source": [
        "import sklearn.svm as svm\n",
        "import sklearn.metrics as mt\n",
        "from sklearn.model_selection import cross_val_score, cross_validate\n",
        "from sklearn.model_selection import GridSearchCV\n",
        "import sklearn.svm\n",
        "\n",
        "\n",
        "def objective(trial):\n",
        "    \n",
        "    c = trial.suggest_float('svc_c', 1e-2, 1e6, log=True)\n",
        "    gam = trial.suggest_float('svc_gamma', 1e-3, 1e6, log=True)\n",
        "    \n",
        "    clf = sklearn.svm.SVC (\n",
        "        kernel='rbf', C=c, gamma=gam\n",
        "        )\n",
        "    \n",
        "    return sklearn.model_selection.cross_val_score(\n",
        "        clf, X_train, y_train, n_jobs=-1, cv=5).mean()\n",
        "\n",
        "study = optuna.create_study(direction='maximize')\n",
        "study.optimize(objective, n_trials=100)\n",
        "\n",
        "trial = study.best_trial\n",
        "\n",
        "print('Accuracy: {}'.format(trial.value))\n",
        "print(\"Best hyperparameters: {}\".format(trial.params))\n",
        "\n",
        "# Accuracy: 0.8424593088071349\n",
        "# Best hyperparameters: {'svc_c': 1.3720361031797952, 'svc_gamma': 6.033860355438825}\n",
        "# Accuracy: 0.8411237458193981\n",
        "# Best hyperparameters: {'svc_c': 1.0050140664400131, 'svc_gamma': 13.031717251398376}\n",
        "# Accuracy: 0.8437948717948718\n",
        "# Best hyperparameters: {'svc_c': 2.206225165264988, 'svc_gamma': 4.270221263739784}"
      ],
      "execution_count": 50,
      "outputs": [
        {
          "output_type": "stream",
          "text": [
            "\u001b[32m[I 2021-08-27 16:25:29,055]\u001b[0m A new study created in memory with name: no-name-e9753db8-0bfe-43e9-a1ec-e528ae99ecea\u001b[0m\n",
            "\u001b[32m[I 2021-08-27 16:25:30,679]\u001b[0m Trial 0 finished with value: 0.6575429208472686 and parameters: {'svc_c': 0.7524810919944533, 'svc_gamma': 834505.5400358414}. Best is trial 0 with value: 0.6575429208472686.\u001b[0m\n",
            "\u001b[32m[I 2021-08-27 16:25:31,089]\u001b[0m Trial 1 finished with value: 0.6688851727982164 and parameters: {'svc_c': 4.476169437043126, 'svc_gamma': 2336.832464084838}. Best is trial 1 with value: 0.6688851727982164.\u001b[0m\n",
            "\u001b[32m[I 2021-08-27 16:25:31,370]\u001b[0m Trial 2 finished with value: 0.7930434782608696 and parameters: {'svc_c': 0.49861566782273326, 'svc_gamma': 0.13454088031911673}. Best is trial 2 with value: 0.7930434782608696.\u001b[0m\n",
            "\u001b[32m[I 2021-08-27 16:25:31,847]\u001b[0m Trial 3 finished with value: 0.6788896321070235 and parameters: {'svc_c': 16.078701941686894, 'svc_gamma': 1000.9927090641468}. Best is trial 2 with value: 0.7930434782608696.\u001b[0m\n",
            "\u001b[32m[I 2021-08-27 16:25:32,251]\u001b[0m Trial 4 finished with value: 0.6662185061315495 and parameters: {'svc_c': 5.077353699872116, 'svc_gamma': 3646.518472241541}. Best is trial 2 with value: 0.7930434782608696.\u001b[0m\n",
            "\u001b[32m[I 2021-08-27 16:25:32,752]\u001b[0m Trial 5 finished with value: 0.7576811594202899 and parameters: {'svc_c': 597770.243474736, 'svc_gamma': 68.62860213128062}. Best is trial 2 with value: 0.7930434782608696.\u001b[0m\n",
            "\u001b[32m[I 2021-08-27 16:25:33,069]\u001b[0m Trial 6 finished with value: 0.5660869565217391 and parameters: {'svc_c': 2.1312029867611693, 'svc_gamma': 0.0018266768708413675}. Best is trial 2 with value: 0.7930434782608696.\u001b[0m\n",
            "\u001b[32m[I 2021-08-27 16:25:33,335]\u001b[0m Trial 7 finished with value: 0.8043901895206244 and parameters: {'svc_c': 4439.323798410775, 'svc_gamma': 0.001516038646009142}. Best is trial 7 with value: 0.8043901895206244.\u001b[0m\n",
            "\u001b[32m[I 2021-08-27 16:25:33,808]\u001b[0m Trial 8 finished with value: 0.6788896321070235 and parameters: {'svc_c': 48.11924377095115, 'svc_gamma': 934.1256265598762}. Best is trial 7 with value: 0.8043901895206244.\u001b[0m\n",
            "\u001b[32m[I 2021-08-27 16:25:34,103]\u001b[0m Trial 9 finished with value: 0.7229632107023412 and parameters: {'svc_c': 0.15372451469318812, 'svc_gamma': 24.085579462245946}. Best is trial 7 with value: 0.8043901895206244.\u001b[0m\n",
            "\u001b[32m[I 2021-08-27 16:25:34,544]\u001b[0m Trial 10 finished with value: 0.8030546265328875 and parameters: {'svc_c': 9481.828591232104, 'svc_gamma': 0.0011721565068175289}. Best is trial 7 with value: 0.8043901895206244.\u001b[0m\n",
            "\u001b[32m[I 2021-08-27 16:25:34,840]\u001b[0m Trial 11 finished with value: 0.8050590858416946 and parameters: {'svc_c': 7648.707024181631, 'svc_gamma': 0.001990073105880202}. Best is trial 11 with value: 0.8050590858416946.\u001b[0m\n",
            "\u001b[32m[I 2021-08-27 16:25:35,505]\u001b[0m Trial 12 finished with value: 0.8237547380156076 and parameters: {'svc_c': 2120.9611952912414, 'svc_gamma': 0.0857546095477287}. Best is trial 12 with value: 0.8237547380156076.\u001b[0m\n",
            "\u001b[32m[I 2021-08-27 16:25:36,410]\u001b[0m Trial 13 finished with value: 0.831768115942029 and parameters: {'svc_c': 2331.511116971686, 'svc_gamma': 0.1348135722190068}. Best is trial 13 with value: 0.831768115942029.\u001b[0m\n",
            "\u001b[32m[I 2021-08-27 16:25:36,786]\u001b[0m Trial 14 finished with value: 0.8264236343366779 and parameters: {'svc_c': 446.2211605076706, 'svc_gamma': 0.15713138245483005}. Best is trial 13 with value: 0.831768115942029.\u001b[0m\n",
            "\u001b[32m[I 2021-08-27 16:25:37,103]\u001b[0m Trial 15 finished with value: 0.5647536231884057 and parameters: {'svc_c': 0.01087675213567148, 'svc_gamma': 0.7090490937724225}. Best is trial 13 with value: 0.831768115942029.\u001b[0m\n",
            "\u001b[32m[I 2021-08-27 16:25:38,812]\u001b[0m Trial 16 finished with value: 0.8050769230769232 and parameters: {'svc_c': 770.0619286710086, 'svc_gamma': 2.5791914434583227}. Best is trial 13 with value: 0.831768115942029.\u001b[0m\n",
            "\u001b[32m[I 2021-08-27 16:25:43,442]\u001b[0m Trial 17 finished with value: 0.8190813823857303 and parameters: {'svc_c': 100239.92259598657, 'svc_gamma': 0.023292874346008297}. Best is trial 13 with value: 0.831768115942029.\u001b[0m\n",
            "\u001b[32m[I 2021-08-27 16:25:44,281]\u001b[0m Trial 18 finished with value: 0.8057435897435898 and parameters: {'svc_c': 274.01360725957187, 'svc_gamma': 4.004326700521143}. Best is trial 13 with value: 0.831768115942029.\u001b[0m\n",
            "\u001b[32m[I 2021-08-27 16:25:47,335]\u001b[0m Trial 19 finished with value: 0.8210836120401337 and parameters: {'svc_c': 40266.852093638925, 'svc_gamma': 0.03010433028582147}. Best is trial 13 with value: 0.831768115942029.\u001b[0m\n",
            "\u001b[32m[I 2021-08-27 16:25:47,666]\u001b[0m Trial 20 finished with value: 0.8284325529542921 and parameters: {'svc_c': 121.24340185355516, 'svc_gamma': 0.46089153857037635}. Best is trial 13 with value: 0.831768115942029.\u001b[0m\n",
            "\u001b[32m[I 2021-08-27 16:25:48,051]\u001b[0m Trial 21 finished with value: 0.8297748049052398 and parameters: {'svc_c': 136.11839060001535, 'svc_gamma': 0.5599165853722697}. Best is trial 13 with value: 0.831768115942029.\u001b[0m\n",
            "\u001b[32m[I 2021-08-27 16:25:48,381]\u001b[0m Trial 22 finished with value: 0.832448160535117 and parameters: {'svc_c': 71.02294180159231, 'svc_gamma': 0.8803176981915415}. Best is trial 22 with value: 0.832448160535117.\u001b[0m\n",
            "\u001b[32m[I 2021-08-27 16:25:48,812]\u001b[0m Trial 23 finished with value: 0.7917056856187291 and parameters: {'svc_c': 57.67164321493568, 'svc_gamma': 35.15472045280597}. Best is trial 22 with value: 0.832448160535117.\u001b[0m\n",
            "\u001b[32m[I 2021-08-27 16:25:49,062]\u001b[0m Trial 24 finished with value: 0.8050590858416944 and parameters: {'svc_c': 18.497818908115164, 'svc_gamma': 0.01127104538932838}. Best is trial 22 with value: 0.832448160535117.\u001b[0m\n",
            "\u001b[32m[I 2021-08-27 16:25:50,460]\u001b[0m Trial 25 finished with value: 0.7897212931995541 and parameters: {'svc_c': 869.1144266570612, 'svc_gamma': 3.845342287648901}. Best is trial 22 with value: 0.832448160535117.\u001b[0m\n",
            "\u001b[32m[I 2021-08-27 16:25:50,879]\u001b[0m Trial 26 finished with value: 0.8391148272017837 and parameters: {'svc_c': 180.09546045061845, 'svc_gamma': 0.8493175783556687}. Best is trial 26 with value: 0.8391148272017837.\u001b[0m\n",
            "\u001b[32m[I 2021-08-27 16:25:51,503]\u001b[0m Trial 27 finished with value: 0.7643500557413601 and parameters: {'svc_c': 30450.71718190269, 'svc_gamma': 12.342191873711428}. Best is trial 26 with value: 0.8391148272017837.\u001b[0m\n",
            "\u001b[32m[I 2021-08-27 16:25:53,229]\u001b[0m Trial 28 finished with value: 0.814428093645485 and parameters: {'svc_c': 1200.7616479434648, 'svc_gamma': 1.1663147247950718}. Best is trial 26 with value: 0.8391148272017837.\u001b[0m\n",
            "\u001b[32m[I 2021-08-27 16:25:53,687]\u001b[0m Trial 29 finished with value: 0.7263010033444817 and parameters: {'svc_c': 21.922735034353153, 'svc_gamma': 165.44435721158376}. Best is trial 26 with value: 0.8391148272017837.\u001b[0m\n",
            "\u001b[32m[I 2021-08-27 16:25:54,046]\u001b[0m Trial 30 finished with value: 0.6588784838350057 and parameters: {'svc_c': 330404.7360802349, 'svc_gamma': 443184.81336261256}. Best is trial 26 with value: 0.8391148272017837.\u001b[0m\n",
            "\u001b[32m[I 2021-08-27 16:25:54,333]\u001b[0m Trial 31 finished with value: 0.8290925306577481 and parameters: {'svc_c': 139.2043125240539, 'svc_gamma': 0.29112881659518636}. Best is trial 26 with value: 0.8391148272017837.\u001b[0m\n",
            "\u001b[32m[I 2021-08-27 16:25:54,559]\u001b[0m Trial 32 finished with value: 0.8177525083612041 and parameters: {'svc_c': 202.50115558882135, 'svc_gamma': 0.05437399840201087}. Best is trial 26 with value: 0.8391148272017837.\u001b[0m\n",
            "\u001b[32m[I 2021-08-27 16:25:54,825]\u001b[0m Trial 33 finished with value: 0.8104057971014493 and parameters: {'svc_c': 2640.149108753235, 'svc_gamma': 0.007698921120014371}. Best is trial 26 with value: 0.8391148272017837.\u001b[0m\n",
            "\u001b[32m[I 2021-08-27 16:25:55,051]\u001b[0m Trial 34 finished with value: 0.839788182831661 and parameters: {'svc_c': 4.544321279031721, 'svc_gamma': 9.341691999052907}. Best is trial 34 with value: 0.839788182831661.\u001b[0m\n",
            "\u001b[32m[I 2021-08-27 16:25:55,278]\u001b[0m Trial 35 finished with value: 0.8371170568561874 and parameters: {'svc_c': 5.432301555281549, 'svc_gamma': 7.847658203631525}. Best is trial 34 with value: 0.839788182831661.\u001b[0m\n",
            "\u001b[32m[I 2021-08-27 16:25:55,664]\u001b[0m Trial 36 finished with value: 0.658200668896321 and parameters: {'svc_c': 0.43773317088777475, 'svc_gamma': 217.31608080506487}. Best is trial 34 with value: 0.839788182831661.\u001b[0m\n",
            "\u001b[32m[I 2021-08-27 16:25:55,892]\u001b[0m Trial 37 finished with value: 0.8404659977703457 and parameters: {'svc_c': 2.689944896240146, 'svc_gamma': 8.2965741137071}. Best is trial 37 with value: 0.8404659977703457.\u001b[0m\n",
            "\u001b[32m[I 2021-08-27 16:25:56,124]\u001b[0m Trial 38 finished with value: 0.837119286510591 and parameters: {'svc_c': 4.345416054495357, 'svc_gamma': 8.90417087070555}. Best is trial 37 with value: 0.8404659977703457.\u001b[0m\n",
            "\u001b[32m[I 2021-08-27 16:25:56,488]\u001b[0m Trial 39 finished with value: 0.6608740245261984 and parameters: {'svc_c': 1.9890373250736488, 'svc_gamma': 8303.365638293644}. Best is trial 37 with value: 0.8404659977703457.\u001b[0m\n",
            "\u001b[32m[I 2021-08-27 16:25:56,861]\u001b[0m Trial 40 finished with value: 0.6228338907469342 and parameters: {'svc_c': 0.11032208320864648, 'svc_gamma': 169.577031854475}. Best is trial 37 with value: 0.8404659977703457.\u001b[0m\n",
            "\u001b[32m[I 2021-08-27 16:25:57,078]\u001b[0m Trial 41 finished with value: 0.8351148272017838 and parameters: {'svc_c': 3.022527807112745, 'svc_gamma': 10.10108531045518}. Best is trial 37 with value: 0.8404659977703457.\u001b[0m\n",
            "\u001b[32m[I 2021-08-27 16:25:57,308]\u001b[0m Trial 42 finished with value: 0.8357792642140467 and parameters: {'svc_c': 6.3338995406338405, 'svc_gamma': 7.865249985535503}. Best is trial 37 with value: 0.8404659977703457.\u001b[0m\n",
            "\u001b[32m[I 2021-08-27 16:25:57,676]\u001b[0m Trial 43 finished with value: 0.8104258639910814 and parameters: {'svc_c': 1.1145445088780064, 'svc_gamma': 51.75463599438469}. Best is trial 37 with value: 0.8404659977703457.\u001b[0m\n",
            "\u001b[32m[I 2021-08-27 16:25:57,893]\u001b[0m Trial 44 finished with value: 0.8384481605351171 and parameters: {'svc_c': 5.752743481671728, 'svc_gamma': 2.6090492834178196}. Best is trial 37 with value: 0.8404659977703457.\u001b[0m\n",
            "\u001b[32m[I 2021-08-27 16:25:58,280]\u001b[0m Trial 45 finished with value: 0.6261761426978818 and parameters: {'svc_c': 0.21686671519325215, 'svc_gamma': 510.62343902580426}. Best is trial 37 with value: 0.8404659977703457.\u001b[0m\n",
            "\u001b[32m[I 2021-08-27 16:25:58,578]\u001b[0m Trial 46 finished with value: 0.8124169453734671 and parameters: {'svc_c': 13.579521469366075, 'svc_gamma': 16.64841803698951}. Best is trial 37 with value: 0.8404659977703457.\u001b[0m\n",
            "\u001b[32m[I 2021-08-27 16:25:58,766]\u001b[0m Trial 47 finished with value: 0.8157435897435897 and parameters: {'svc_c': 0.7198528571061767, 'svc_gamma': 1.5836439854101116}. Best is trial 37 with value: 0.8404659977703457.\u001b[0m\n",
            "\u001b[32m[I 2021-08-27 16:25:59,223]\u001b[0m Trial 48 finished with value: 0.7650234113712375 and parameters: {'svc_c': 30.378779397620264, 'svc_gamma': 76.46187131141842}. Best is trial 37 with value: 0.8404659977703457.\u001b[0m\n",
            "\u001b[32m[I 2021-08-27 16:25:59,438]\u001b[0m Trial 49 finished with value: 0.8344481605351171 and parameters: {'svc_c': 8.492825105183385, 'svc_gamma': 2.5683332151514295}. Best is trial 37 with value: 0.8404659977703457.\u001b[0m\n",
            "\u001b[32m[I 2021-08-27 16:25:59,755]\u001b[0m Trial 50 finished with value: 0.5647536231884057 and parameters: {'svc_c': 0.056927858241512, 'svc_gamma': 9995.164179322453}. Best is trial 37 with value: 0.8404659977703457.\u001b[0m\n",
            "\u001b[32m[I 2021-08-27 16:25:59,983]\u001b[0m Trial 51 finished with value: 0.8424593088071349 and parameters: {'svc_c': 1.5382801793252887, 'svc_gamma': 5.76125162942423}. Best is trial 51 with value: 0.8424593088071349.\u001b[0m\n",
            "\u001b[32m[I 2021-08-27 16:26:00,182]\u001b[0m Trial 52 finished with value: 0.809732441471572 and parameters: {'svc_c': 1.177431647081006, 'svc_gamma': 0.2438559169174652}. Best is trial 51 with value: 0.8424593088071349.\u001b[0m\n",
            "\u001b[32m[I 2021-08-27 16:26:00,391]\u001b[0m Trial 53 finished with value: 0.8424637681159421 and parameters: {'svc_c': 2.576074542111366, 'svc_gamma': 4.465364340220218}. Best is trial 53 with value: 0.8424637681159421.\u001b[0m\n",
            "\u001b[32m[I 2021-08-27 16:26:00,657]\u001b[0m Trial 54 finished with value: 0.805072463768116 and parameters: {'svc_c': 0.3700774146096025, 'svc_gamma': 28.71238742445446}. Best is trial 53 with value: 0.8424637681159421.\u001b[0m\n",
            "\u001b[32m[I 2021-08-27 16:26:00,868]\u001b[0m Trial 55 finished with value: 0.8364414715719064 and parameters: {'svc_c': 2.2905599164392285, 'svc_gamma': 2.8576972864690102}. Best is trial 53 with value: 0.8424637681159421.\u001b[0m\n",
            "\u001b[32m[I 2021-08-27 16:26:01,079]\u001b[0m Trial 56 finished with value: 0.83044370122631 and parameters: {'svc_c': 10.951890728818004, 'svc_gamma': 1.394040945388389}. Best is trial 53 with value: 0.8424637681159421.\u001b[0m\n",
            "\u001b[32m[I 2021-08-27 16:26:01,389]\u001b[0m Trial 57 finished with value: 0.8297636566332219 and parameters: {'svc_c': 41.22792615647715, 'svc_gamma': 4.023310690667708}. Best is trial 53 with value: 0.8424637681159421.\u001b[0m\n",
            "\u001b[32m[I 2021-08-27 16:26:01,669]\u001b[0m Trial 58 finished with value: 0.6942586399108138 and parameters: {'svc_c': 0.03144112426183418, 'svc_gamma': 0.45013259128253225}. Best is trial 53 with value: 0.8424637681159421.\u001b[0m\n",
            "\u001b[32m[I 2021-08-27 16:26:02,084]\u001b[0m Trial 59 finished with value: 0.7883924191750279 and parameters: {'svc_c': 1.466782081999174, 'svc_gamma': 69.14034199276466}. Best is trial 53 with value: 0.8424637681159421.\u001b[0m\n",
            "\u001b[32m[I 2021-08-27 16:26:02,349]\u001b[0m Trial 60 finished with value: 0.8311192865105909 and parameters: {'svc_c': 3.659157163542109, 'svc_gamma': 17.576759280215555}. Best is trial 53 with value: 0.8424637681159421.\u001b[0m\n",
            "\u001b[32m[I 2021-08-27 16:26:02,549]\u001b[0m Trial 61 finished with value: 0.8331059085841694 and parameters: {'svc_c': 0.7447816451099281, 'svc_gamma': 6.178657948572153}. Best is trial 53 with value: 0.8424637681159421.\u001b[0m\n",
            "\u001b[32m[I 2021-08-27 16:26:02,748]\u001b[0m Trial 62 finished with value: 0.8277681159420289 and parameters: {'svc_c': 4.774650960466796, 'svc_gamma': 1.3531070181799547}. Best is trial 53 with value: 0.8424637681159421.\u001b[0m\n",
            "\u001b[32m[I 2021-08-27 16:26:03,054]\u001b[0m Trial 63 finished with value: 0.7877123745819399 and parameters: {'svc_c': 0.31462005657475456, 'svc_gamma': 33.40562393745535}. Best is trial 53 with value: 0.8424637681159421.\u001b[0m\n",
            "\u001b[32m[I 2021-08-27 16:26:03,297]\u001b[0m Trial 64 finished with value: 0.8384615384615385 and parameters: {'svc_c': 10.229671941427274, 'svc_gamma': 5.829021024997192}. Best is trial 53 with value: 0.8424637681159421.\u001b[0m\n",
            "\u001b[32m[I 2021-08-27 16:26:03,519]\u001b[0m Trial 65 finished with value: 0.8317703455964326 and parameters: {'svc_c': 28.141973345156238, 'svc_gamma': 0.7296204381847402}. Best is trial 53 with value: 0.8424637681159421.\u001b[0m\n",
            "\u001b[32m[I 2021-08-27 16:26:03,728]\u001b[0m Trial 66 finished with value: 0.8357814938684504 and parameters: {'svc_c': 9.748453105400737, 'svc_gamma': 2.3061645713289796}. Best is trial 53 with value: 0.8424637681159421.\u001b[0m\n",
            "\u001b[32m[I 2021-08-27 16:26:03,952]\u001b[0m Trial 67 finished with value: 0.8164169453734671 and parameters: {'svc_c': 59.94167014147649, 'svc_gamma': 0.08616944789032635}. Best is trial 53 with value: 0.8424637681159421.\u001b[0m\n",
            "\u001b[32m[I 2021-08-27 16:26:04,202]\u001b[0m Trial 68 finished with value: 0.8357859531772576 and parameters: {'svc_c': 18.108047286208254, 'svc_gamma': 4.88074692671869}. Best is trial 53 with value: 0.8424637681159421.\u001b[0m\n",
            "\u001b[32m[I 2021-08-27 16:26:04,461]\u001b[0m Trial 69 finished with value: 0.8331170568561873 and parameters: {'svc_c': 2.268689235826991, 'svc_gamma': 18.10438333846282}. Best is trial 53 with value: 0.8424637681159421.\u001b[0m\n",
            "\u001b[32m[I 2021-08-27 16:26:04,670]\u001b[0m Trial 70 finished with value: 0.8070657748049053 and parameters: {'svc_c': 0.6664795495227613, 'svc_gamma': 0.2764428707068218}. Best is trial 53 with value: 0.8424637681159421.\u001b[0m\n",
            "\u001b[32m[I 2021-08-27 16:26:04,894]\u001b[0m Trial 71 finished with value: 0.837783723522854 and parameters: {'svc_c': 3.567492780742657, 'svc_gamma': 9.619732701297883}. Best is trial 53 with value: 0.8424637681159421.\u001b[0m\n",
            "\u001b[32m[I 2021-08-27 16:26:05,103]\u001b[0m Trial 72 finished with value: 0.8257658862876255 and parameters: {'svc_c': 1.2108665658164601, 'svc_gamma': 1.9958643905369637}. Best is trial 53 with value: 0.8424637681159421.\u001b[0m\n",
            "\u001b[32m[I 2021-08-27 16:26:05,933]\u001b[0m Trial 73 finished with value: 0.7910501672240803 and parameters: {'svc_c': 414.9736200481492, 'svc_gamma': 4.664850916687963}. Best is trial 53 with value: 0.8424637681159421.\u001b[0m\n",
            "\u001b[32m[I 2021-08-27 16:26:06,401]\u001b[0m Trial 74 finished with value: 0.7496677814938684 and parameters: {'svc_c': 6.908934666453952, 'svc_gamma': 101.53071480726155}. Best is trial 53 with value: 0.8424637681159421.\u001b[0m\n",
            "\u001b[32m[I 2021-08-27 16:26:06,643]\u001b[0m Trial 75 finished with value: 0.8337770345596432 and parameters: {'svc_c': 2.439572571317703, 'svc_gamma': 13.770423277488703}. Best is trial 53 with value: 0.8424637681159421.\u001b[0m\n",
            "\u001b[32m[I 2021-08-27 16:26:06,930]\u001b[0m Trial 76 finished with value: 0.8284325529542921 and parameters: {'svc_c': 82.76488112534199, 'svc_gamma': 0.5190748364795172}. Best is trial 53 with value: 0.8424637681159421.\u001b[0m\n",
            "\u001b[32m[I 2021-08-27 16:26:07,326]\u001b[0m Trial 77 finished with value: 0.8090836120401338 and parameters: {'svc_c': 3.6942739811838106, 'svc_gamma': 44.18098613194532}. Best is trial 53 with value: 0.8424637681159421.\u001b[0m\n",
            "\u001b[32m[I 2021-08-27 16:26:07,541]\u001b[0m Trial 78 finished with value: 0.8324392419175028 and parameters: {'svc_c': 14.05779676498377, 'svc_gamma': 0.9841566384444653}. Best is trial 53 with value: 0.8424637681159421.\u001b[0m\n",
            "\u001b[32m[I 2021-08-27 16:26:07,854]\u001b[0m Trial 79 finished with value: 0.8177591973244146 and parameters: {'svc_c': 37.8796111337252, 'svc_gamma': 7.93175482936079}. Best is trial 53 with value: 0.8424637681159421.\u001b[0m\n",
            "\u001b[32m[I 2021-08-27 16:26:08,151]\u001b[0m Trial 80 finished with value: 0.7042742474916388 and parameters: {'svc_c': 0.14250214933591954, 'svc_gamma': 24.70066752293088}. Best is trial 53 with value: 0.8424637681159421.\u001b[0m\n",
            "\u001b[32m[I 2021-08-27 16:26:08,389]\u001b[0m Trial 81 finished with value: 0.837119286510591 and parameters: {'svc_c': 4.213704522626861, 'svc_gamma': 8.923065528437899}. Best is trial 53 with value: 0.8424637681159421.\u001b[0m\n",
            "\u001b[32m[I 2021-08-27 16:26:08,609]\u001b[0m Trial 82 finished with value: 0.8391215161649944 and parameters: {'svc_c': 6.56719236954707, 'svc_gamma': 3.464003795934044}. Best is trial 53 with value: 0.8424637681159421.\u001b[0m\n",
            "\u001b[32m[I 2021-08-27 16:26:08,824]\u001b[0m Trial 83 finished with value: 0.8404570791527313 and parameters: {'svc_c': 7.3498880797163135, 'svc_gamma': 3.3830684325632787}. Best is trial 53 with value: 0.8424637681159421.\u001b[0m\n",
            "\u001b[32m[I 2021-08-27 16:26:09,039]\u001b[0m Trial 84 finished with value: 0.8344392419175028 and parameters: {'svc_c': 1.5939331881247163, 'svc_gamma': 3.5272634985584683}. Best is trial 53 with value: 0.8424637681159421.\u001b[0m\n",
            "\u001b[32m[I 2021-08-27 16:26:09,246]\u001b[0m Trial 85 finished with value: 0.8351125975473803 and parameters: {'svc_c': 6.878571604216301, 'svc_gamma': 1.8620402608911688}. Best is trial 53 with value: 0.8424637681159421.\u001b[0m\n",
            "\u001b[32m[I 2021-08-27 16:26:09,480]\u001b[0m Trial 86 finished with value: 0.831772575250836 and parameters: {'svc_c': 21.52160530406558, 'svc_gamma': 0.8306708009695435}. Best is trial 53 with value: 0.8424637681159421.\u001b[0m\n",
            "\u001b[32m[I 2021-08-27 16:26:09,715]\u001b[0m Trial 87 finished with value: 0.8404526198439243 and parameters: {'svc_c': 10.307507356271609, 'svc_gamma': 5.312763276341458}. Best is trial 53 with value: 0.8424637681159421.\u001b[0m\n",
            "\u001b[32m[I 2021-08-27 16:26:10,343]\u001b[0m Trial 88 finished with value: 0.791716833890747 and parameters: {'svc_c': 236.23243655930187, 'svc_gamma': 6.093416245956738}. Best is trial 53 with value: 0.8424637681159421.\u001b[0m\n",
            "\u001b[32m[I 2021-08-27 16:26:10,702]\u001b[0m Trial 89 finished with value: 0.7890479375696768 and parameters: {'svc_c': 111.64980651669693, 'svc_gamma': 14.852872498428995}. Best is trial 53 with value: 0.8424637681159421.\u001b[0m\n",
            "\u001b[32m[I 2021-08-27 16:26:10,904]\u001b[0m Trial 90 finished with value: 0.8150746934225195 and parameters: {'svc_c': 11.053907978954479, 'svc_gamma': 0.15558435007197013}. Best is trial 53 with value: 0.8424637681159421.\u001b[0m\n",
            "\u001b[32m[I 2021-08-27 16:26:11,125]\u001b[0m Trial 91 finished with value: 0.836448160535117 and parameters: {'svc_c': 5.487994011077507, 'svc_gamma': 2.9173079652276717}. Best is trial 53 with value: 0.8424637681159421.\u001b[0m\n",
            "\u001b[32m[I 2021-08-27 16:26:11,321]\u001b[0m Trial 92 finished with value: 0.8177435897435897 and parameters: {'svc_c': 1.6666446984679428, 'svc_gamma': 0.3874555982411193}. Best is trial 53 with value: 0.8424637681159421.\u001b[0m\n",
            "\u001b[32m[I 2021-08-27 16:26:11,534]\u001b[0m Trial 93 finished with value: 0.8324370122630993 and parameters: {'svc_c': 9.599405351951628, 'svc_gamma': 1.1513504326322603}. Best is trial 53 with value: 0.8424637681159421.\u001b[0m\n",
            "\u001b[32m[I 2021-08-27 16:26:11,790]\u001b[0m Trial 94 finished with value: 0.837123745819398 and parameters: {'svc_c': 16.997070076703437, 'svc_gamma': 4.320249091775594}. Best is trial 53 with value: 0.8424637681159421.\u001b[0m\n",
            "\u001b[32m[I 2021-08-27 16:26:12,060]\u001b[0m Trial 95 finished with value: 0.8317770345596432 and parameters: {'svc_c': 0.5219451689408109, 'svc_gamma': 24.53852381013397}. Best is trial 53 with value: 0.8424637681159421.\u001b[0m\n",
            "\u001b[32m[I 2021-08-27 16:26:12,258]\u001b[0m Trial 96 finished with value: 0.8244303232998884 and parameters: {'svc_c': 1.0961099654084014, 'svc_gamma': 1.7806949426115595}. Best is trial 53 with value: 0.8424637681159421.\u001b[0m\n",
            "\u001b[32m[I 2021-08-27 16:26:12,611]\u001b[0m Trial 97 finished with value: 0.6588784838350057 and parameters: {'svc_c': 27.241934332311807, 'svc_gamma': 115416.2541880441}. Best is trial 53 with value: 0.8424637681159421.\u001b[0m\n",
            "\u001b[32m[I 2021-08-27 16:26:12,827]\u001b[0m Trial 98 finished with value: 0.8364481605351172 and parameters: {'svc_c': 2.740020783860863, 'svc_gamma': 5.642127110750212}. Best is trial 53 with value: 0.8424637681159421.\u001b[0m\n",
            "\u001b[32m[I 2021-08-27 16:26:13,030]\u001b[0m Trial 99 finished with value: 0.8117435897435896 and parameters: {'svc_c': 0.2559992819664724, 'svc_gamma': 2.9074530505983494}. Best is trial 53 with value: 0.8424637681159421.\u001b[0m\n"
          ],
          "name": "stderr"
        },
        {
          "output_type": "stream",
          "text": [
            "Accuracy: 0.8424637681159421\n",
            "Best hyperparameters: {'svc_c': 2.576074542111366, 'svc_gamma': 4.465364340220218}\n"
          ],
          "name": "stdout"
        }
      ]
    },
    {
      "cell_type": "code",
      "metadata": {
        "colab": {
          "base_uri": "https://localhost:8080/",
          "height": 542
        },
        "id": "p0aa_OVPHS1k",
        "outputId": "4c1d4ec1-44da-477b-98ab-7c757df6e10e"
      },
      "source": [
        "optuna.visualization.plot_optimization_history(study)"
      ],
      "execution_count": null,
      "outputs": [
        {
          "output_type": "display_data",
          "data": {
            "text/html": [
              "<html>\n",
              "<head><meta charset=\"utf-8\" /></head>\n",
              "<body>\n",
              "    <div>\n",
              "            <script src=\"https://cdnjs.cloudflare.com/ajax/libs/mathjax/2.7.5/MathJax.js?config=TeX-AMS-MML_SVG\"></script><script type=\"text/javascript\">if (window.MathJax) {MathJax.Hub.Config({SVG: {font: \"STIX-Web\"}});}</script>\n",
              "                <script type=\"text/javascript\">window.PlotlyConfig = {MathJaxConfig: 'local'};</script>\n",
              "        <script src=\"https://cdn.plot.ly/plotly-latest.min.js\"></script>    \n",
              "            <div id=\"887dc47b-4b03-45ad-a82d-807ce08edd2e\" class=\"plotly-graph-div\" style=\"height:525px; width:100%;\"></div>\n",
              "            <script type=\"text/javascript\">\n",
              "                \n",
              "                    window.PLOTLYENV=window.PLOTLYENV || {};\n",
              "                    \n",
              "                if (document.getElementById(\"887dc47b-4b03-45ad-a82d-807ce08edd2e\")) {\n",
              "                    Plotly.newPlot(\n",
              "                        '887dc47b-4b03-45ad-a82d-807ce08edd2e',\n",
              "                        [{\"mode\": \"markers\", \"name\": \"Objective Value\", \"type\": \"scatter\", \"x\": [0, 1, 2, 3, 4, 5, 6, 7, 8, 9, 10, 11, 12, 13, 14, 15, 16, 17, 18, 19, 20, 21, 22, 23, 24, 25, 26, 27, 28, 29, 30, 31, 32, 33, 34, 35, 36, 37, 38, 39, 40, 41, 42, 43, 44, 45, 46, 47, 48, 49, 50, 51, 52, 53, 54, 55, 56, 57, 58, 59, 60, 61, 62, 63, 64, 65, 66, 67, 68, 69, 70, 71, 72, 73, 74, 75, 76, 77, 78, 79, 80, 81, 82, 83, 84, 85, 86, 87, 88, 89, 90, 91, 92, 93, 94, 95, 96, 97, 98, 99], \"y\": [0.6622095875139353, 0.7529877369007804, 0.8204325529542921, 0.6588784838350057, 0.5694269788182831, 0.5647536231884057, 0.7830412486064661, 0.8337814938684505, 0.7683522853957637, 0.6588784838350057, 0.8190858416945372, 0.811732441471572, 0.8224214046822743, 0.8170813823857301, 0.8017212931995541, 0.6795652173913043, 0.8291059085841695, 0.6955808249721294, 0.793052396878484, 0.8090635451505015, 0.8050568561872911, 0.8257525083612041, 0.8097391304347825, 0.7142831661092531, 0.8070568561872908, 0.809732441471572, 0.79038127090301, 0.821756967670011, 0.5647536231884057, 0.8177636566332218, 0.7263099219620959, 0.8197547380156076, 0.8230880713489409, 0.8371215161649944, 0.8417926421404683, 0.8377859531772576, 0.5647536231884057, 0.8424570791527313, 0.8364570791527314, 0.6395228539576365, 0.5647536231884057, 0.8357748049052397, 0.8391259754738016, 0.7623567447045707, 0.6301828316610925, 0.8371148272017838, 0.7450033444816053, 0.6214983277591973, 0.809752508361204, 0.8371125975473801, 0.8384526198439242, 0.8411215161649945, 0.6041382385730211, 0.5914515050167224, 0.837123745819398, 0.7990546265328875, 0.8257636566332218, 0.8324414715719064, 0.6915741360089186, 0.661540691192865, 0.7389855072463768, 0.8344481605351171, 0.8170880713489408, 0.8324459308807134, 0.81841248606466, 0.5647536231884057, 0.7890367892976589, 0.8264214046822742, 0.8250947603121516, 0.8157525083612042, 0.6782229654403567, 0.8397948717948719, 0.822432552954292, 0.8170813823857301, 0.8384637681159421, 0.8364593088071348, 0.8217525083612041, 0.787041248606466, 0.817748049052397, 0.8137458193979933, 0.8337770345596432, 0.8377837235228538, 0.8391192865105909, 0.7356499442586399, 0.8224325529542922, 0.838463768115942, 0.8411282051282051, 0.8437948717948718, 0.8357859531772576, 0.8264414715719063, 0.8270947603121515, 0.8384526198439242, 0.794396878483835, 0.8257703455964325, 0.8357881828316611, 0.8351170568561873, 0.8150858416945373, 0.8324437012263098, 0.8197636566332218, 0.8397926421404682]}, {\"name\": \"Best Value\", \"type\": \"scatter\", \"x\": [0, 1, 2, 3, 4, 5, 6, 7, 8, 9, 10, 11, 12, 13, 14, 15, 16, 17, 18, 19, 20, 21, 22, 23, 24, 25, 26, 27, 28, 29, 30, 31, 32, 33, 34, 35, 36, 37, 38, 39, 40, 41, 42, 43, 44, 45, 46, 47, 48, 49, 50, 51, 52, 53, 54, 55, 56, 57, 58, 59, 60, 61, 62, 63, 64, 65, 66, 67, 68, 69, 70, 71, 72, 73, 74, 75, 76, 77, 78, 79, 80, 81, 82, 83, 84, 85, 86, 87, 88, 89, 90, 91, 92, 93, 94, 95, 96, 97, 98, 99], \"y\": [0.6622095875139353, 0.7529877369007804, 0.8204325529542921, 0.8204325529542921, 0.8204325529542921, 0.8204325529542921, 0.8204325529542921, 0.8337814938684505, 0.8337814938684505, 0.8337814938684505, 0.8337814938684505, 0.8337814938684505, 0.8337814938684505, 0.8337814938684505, 0.8337814938684505, 0.8337814938684505, 0.8337814938684505, 0.8337814938684505, 0.8337814938684505, 0.8337814938684505, 0.8337814938684505, 0.8337814938684505, 0.8337814938684505, 0.8337814938684505, 0.8337814938684505, 0.8337814938684505, 0.8337814938684505, 0.8337814938684505, 0.8337814938684505, 0.8337814938684505, 0.8337814938684505, 0.8337814938684505, 0.8337814938684505, 0.8371215161649944, 0.8417926421404683, 0.8417926421404683, 0.8417926421404683, 0.8424570791527313, 0.8424570791527313, 0.8424570791527313, 0.8424570791527313, 0.8424570791527313, 0.8424570791527313, 0.8424570791527313, 0.8424570791527313, 0.8424570791527313, 0.8424570791527313, 0.8424570791527313, 0.8424570791527313, 0.8424570791527313, 0.8424570791527313, 0.8424570791527313, 0.8424570791527313, 0.8424570791527313, 0.8424570791527313, 0.8424570791527313, 0.8424570791527313, 0.8424570791527313, 0.8424570791527313, 0.8424570791527313, 0.8424570791527313, 0.8424570791527313, 0.8424570791527313, 0.8424570791527313, 0.8424570791527313, 0.8424570791527313, 0.8424570791527313, 0.8424570791527313, 0.8424570791527313, 0.8424570791527313, 0.8424570791527313, 0.8424570791527313, 0.8424570791527313, 0.8424570791527313, 0.8424570791527313, 0.8424570791527313, 0.8424570791527313, 0.8424570791527313, 0.8424570791527313, 0.8424570791527313, 0.8424570791527313, 0.8424570791527313, 0.8424570791527313, 0.8424570791527313, 0.8424570791527313, 0.8424570791527313, 0.8424570791527313, 0.8437948717948718, 0.8437948717948718, 0.8437948717948718, 0.8437948717948718, 0.8437948717948718, 0.8437948717948718, 0.8437948717948718, 0.8437948717948718, 0.8437948717948718, 0.8437948717948718, 0.8437948717948718, 0.8437948717948718, 0.8437948717948718]}],\n",
              "                        {\"template\": {\"data\": {\"bar\": [{\"error_x\": {\"color\": \"#2a3f5f\"}, \"error_y\": {\"color\": \"#2a3f5f\"}, \"marker\": {\"line\": {\"color\": \"#E5ECF6\", \"width\": 0.5}}, \"type\": \"bar\"}], \"barpolar\": [{\"marker\": {\"line\": {\"color\": \"#E5ECF6\", \"width\": 0.5}}, \"type\": \"barpolar\"}], \"carpet\": [{\"aaxis\": {\"endlinecolor\": \"#2a3f5f\", \"gridcolor\": \"white\", \"linecolor\": \"white\", \"minorgridcolor\": \"white\", \"startlinecolor\": \"#2a3f5f\"}, \"baxis\": {\"endlinecolor\": \"#2a3f5f\", \"gridcolor\": \"white\", \"linecolor\": \"white\", \"minorgridcolor\": \"white\", \"startlinecolor\": \"#2a3f5f\"}, \"type\": \"carpet\"}], \"choropleth\": [{\"colorbar\": {\"outlinewidth\": 0, \"ticks\": \"\"}, \"type\": \"choropleth\"}], \"contour\": [{\"colorbar\": {\"outlinewidth\": 0, \"ticks\": \"\"}, \"colorscale\": [[0.0, \"#0d0887\"], [0.1111111111111111, \"#46039f\"], [0.2222222222222222, \"#7201a8\"], [0.3333333333333333, \"#9c179e\"], [0.4444444444444444, \"#bd3786\"], [0.5555555555555556, \"#d8576b\"], [0.6666666666666666, \"#ed7953\"], [0.7777777777777778, \"#fb9f3a\"], [0.8888888888888888, \"#fdca26\"], [1.0, \"#f0f921\"]], \"type\": \"contour\"}], \"contourcarpet\": [{\"colorbar\": {\"outlinewidth\": 0, \"ticks\": \"\"}, \"type\": \"contourcarpet\"}], \"heatmap\": [{\"colorbar\": {\"outlinewidth\": 0, \"ticks\": \"\"}, \"colorscale\": [[0.0, \"#0d0887\"], [0.1111111111111111, \"#46039f\"], [0.2222222222222222, \"#7201a8\"], [0.3333333333333333, \"#9c179e\"], [0.4444444444444444, \"#bd3786\"], [0.5555555555555556, \"#d8576b\"], [0.6666666666666666, \"#ed7953\"], [0.7777777777777778, \"#fb9f3a\"], [0.8888888888888888, \"#fdca26\"], [1.0, \"#f0f921\"]], \"type\": \"heatmap\"}], \"heatmapgl\": [{\"colorbar\": {\"outlinewidth\": 0, \"ticks\": \"\"}, \"colorscale\": [[0.0, \"#0d0887\"], [0.1111111111111111, \"#46039f\"], [0.2222222222222222, \"#7201a8\"], [0.3333333333333333, \"#9c179e\"], [0.4444444444444444, \"#bd3786\"], [0.5555555555555556, \"#d8576b\"], [0.6666666666666666, \"#ed7953\"], [0.7777777777777778, \"#fb9f3a\"], [0.8888888888888888, \"#fdca26\"], [1.0, \"#f0f921\"]], \"type\": \"heatmapgl\"}], \"histogram\": [{\"marker\": {\"colorbar\": {\"outlinewidth\": 0, \"ticks\": \"\"}}, \"type\": \"histogram\"}], \"histogram2d\": [{\"colorbar\": {\"outlinewidth\": 0, \"ticks\": \"\"}, \"colorscale\": [[0.0, \"#0d0887\"], [0.1111111111111111, \"#46039f\"], [0.2222222222222222, \"#7201a8\"], [0.3333333333333333, \"#9c179e\"], [0.4444444444444444, \"#bd3786\"], [0.5555555555555556, \"#d8576b\"], [0.6666666666666666, \"#ed7953\"], [0.7777777777777778, \"#fb9f3a\"], [0.8888888888888888, \"#fdca26\"], [1.0, \"#f0f921\"]], \"type\": \"histogram2d\"}], \"histogram2dcontour\": [{\"colorbar\": {\"outlinewidth\": 0, \"ticks\": \"\"}, \"colorscale\": [[0.0, \"#0d0887\"], [0.1111111111111111, \"#46039f\"], [0.2222222222222222, \"#7201a8\"], [0.3333333333333333, \"#9c179e\"], [0.4444444444444444, \"#bd3786\"], [0.5555555555555556, \"#d8576b\"], [0.6666666666666666, \"#ed7953\"], [0.7777777777777778, \"#fb9f3a\"], [0.8888888888888888, \"#fdca26\"], [1.0, \"#f0f921\"]], \"type\": \"histogram2dcontour\"}], \"mesh3d\": [{\"colorbar\": {\"outlinewidth\": 0, \"ticks\": \"\"}, \"type\": \"mesh3d\"}], \"parcoords\": [{\"line\": {\"colorbar\": {\"outlinewidth\": 0, \"ticks\": \"\"}}, \"type\": \"parcoords\"}], \"pie\": [{\"automargin\": true, \"type\": \"pie\"}], \"scatter\": [{\"marker\": {\"colorbar\": {\"outlinewidth\": 0, \"ticks\": \"\"}}, \"type\": \"scatter\"}], \"scatter3d\": [{\"line\": {\"colorbar\": {\"outlinewidth\": 0, \"ticks\": \"\"}}, \"marker\": {\"colorbar\": {\"outlinewidth\": 0, \"ticks\": \"\"}}, \"type\": \"scatter3d\"}], \"scattercarpet\": [{\"marker\": {\"colorbar\": {\"outlinewidth\": 0, \"ticks\": \"\"}}, \"type\": \"scattercarpet\"}], \"scattergeo\": [{\"marker\": {\"colorbar\": {\"outlinewidth\": 0, \"ticks\": \"\"}}, \"type\": \"scattergeo\"}], \"scattergl\": [{\"marker\": {\"colorbar\": {\"outlinewidth\": 0, \"ticks\": \"\"}}, \"type\": \"scattergl\"}], \"scattermapbox\": [{\"marker\": {\"colorbar\": {\"outlinewidth\": 0, \"ticks\": \"\"}}, \"type\": \"scattermapbox\"}], \"scatterpolar\": [{\"marker\": {\"colorbar\": {\"outlinewidth\": 0, \"ticks\": \"\"}}, \"type\": \"scatterpolar\"}], \"scatterpolargl\": [{\"marker\": {\"colorbar\": {\"outlinewidth\": 0, \"ticks\": \"\"}}, \"type\": \"scatterpolargl\"}], \"scatterternary\": [{\"marker\": {\"colorbar\": {\"outlinewidth\": 0, \"ticks\": \"\"}}, \"type\": \"scatterternary\"}], \"surface\": [{\"colorbar\": {\"outlinewidth\": 0, \"ticks\": \"\"}, \"colorscale\": [[0.0, \"#0d0887\"], [0.1111111111111111, \"#46039f\"], [0.2222222222222222, \"#7201a8\"], [0.3333333333333333, \"#9c179e\"], [0.4444444444444444, \"#bd3786\"], [0.5555555555555556, \"#d8576b\"], [0.6666666666666666, \"#ed7953\"], [0.7777777777777778, \"#fb9f3a\"], [0.8888888888888888, \"#fdca26\"], [1.0, \"#f0f921\"]], \"type\": \"surface\"}], \"table\": [{\"cells\": {\"fill\": {\"color\": \"#EBF0F8\"}, \"line\": {\"color\": \"white\"}}, \"header\": {\"fill\": {\"color\": \"#C8D4E3\"}, \"line\": {\"color\": \"white\"}}, \"type\": \"table\"}]}, \"layout\": {\"annotationdefaults\": {\"arrowcolor\": \"#2a3f5f\", \"arrowhead\": 0, \"arrowwidth\": 1}, \"coloraxis\": {\"colorbar\": {\"outlinewidth\": 0, \"ticks\": \"\"}}, \"colorscale\": {\"diverging\": [[0, \"#8e0152\"], [0.1, \"#c51b7d\"], [0.2, \"#de77ae\"], [0.3, \"#f1b6da\"], [0.4, \"#fde0ef\"], [0.5, \"#f7f7f7\"], [0.6, \"#e6f5d0\"], [0.7, \"#b8e186\"], [0.8, \"#7fbc41\"], [0.9, \"#4d9221\"], [1, \"#276419\"]], \"sequential\": [[0.0, \"#0d0887\"], [0.1111111111111111, \"#46039f\"], [0.2222222222222222, \"#7201a8\"], [0.3333333333333333, \"#9c179e\"], [0.4444444444444444, \"#bd3786\"], [0.5555555555555556, \"#d8576b\"], [0.6666666666666666, \"#ed7953\"], [0.7777777777777778, \"#fb9f3a\"], [0.8888888888888888, \"#fdca26\"], [1.0, \"#f0f921\"]], \"sequentialminus\": [[0.0, \"#0d0887\"], [0.1111111111111111, \"#46039f\"], [0.2222222222222222, \"#7201a8\"], [0.3333333333333333, \"#9c179e\"], [0.4444444444444444, \"#bd3786\"], [0.5555555555555556, \"#d8576b\"], [0.6666666666666666, \"#ed7953\"], [0.7777777777777778, \"#fb9f3a\"], [0.8888888888888888, \"#fdca26\"], [1.0, \"#f0f921\"]]}, \"colorway\": [\"#636efa\", \"#EF553B\", \"#00cc96\", \"#ab63fa\", \"#FFA15A\", \"#19d3f3\", \"#FF6692\", \"#B6E880\", \"#FF97FF\", \"#FECB52\"], \"font\": {\"color\": \"#2a3f5f\"}, \"geo\": {\"bgcolor\": \"white\", \"lakecolor\": \"white\", \"landcolor\": \"#E5ECF6\", \"showlakes\": true, \"showland\": true, \"subunitcolor\": \"white\"}, \"hoverlabel\": {\"align\": \"left\"}, \"hovermode\": \"closest\", \"mapbox\": {\"style\": \"light\"}, \"paper_bgcolor\": \"white\", \"plot_bgcolor\": \"#E5ECF6\", \"polar\": {\"angularaxis\": {\"gridcolor\": \"white\", \"linecolor\": \"white\", \"ticks\": \"\"}, \"bgcolor\": \"#E5ECF6\", \"radialaxis\": {\"gridcolor\": \"white\", \"linecolor\": \"white\", \"ticks\": \"\"}}, \"scene\": {\"xaxis\": {\"backgroundcolor\": \"#E5ECF6\", \"gridcolor\": \"white\", \"gridwidth\": 2, \"linecolor\": \"white\", \"showbackground\": true, \"ticks\": \"\", \"zerolinecolor\": \"white\"}, \"yaxis\": {\"backgroundcolor\": \"#E5ECF6\", \"gridcolor\": \"white\", \"gridwidth\": 2, \"linecolor\": \"white\", \"showbackground\": true, \"ticks\": \"\", \"zerolinecolor\": \"white\"}, \"zaxis\": {\"backgroundcolor\": \"#E5ECF6\", \"gridcolor\": \"white\", \"gridwidth\": 2, \"linecolor\": \"white\", \"showbackground\": true, \"ticks\": \"\", \"zerolinecolor\": \"white\"}}, \"shapedefaults\": {\"line\": {\"color\": \"#2a3f5f\"}}, \"ternary\": {\"aaxis\": {\"gridcolor\": \"white\", \"linecolor\": \"white\", \"ticks\": \"\"}, \"baxis\": {\"gridcolor\": \"white\", \"linecolor\": \"white\", \"ticks\": \"\"}, \"bgcolor\": \"#E5ECF6\", \"caxis\": {\"gridcolor\": \"white\", \"linecolor\": \"white\", \"ticks\": \"\"}}, \"title\": {\"x\": 0.05}, \"xaxis\": {\"automargin\": true, \"gridcolor\": \"white\", \"linecolor\": \"white\", \"ticks\": \"\", \"title\": {\"standoff\": 15}, \"zerolinecolor\": \"white\", \"zerolinewidth\": 2}, \"yaxis\": {\"automargin\": true, \"gridcolor\": \"white\", \"linecolor\": \"white\", \"ticks\": \"\", \"title\": {\"standoff\": 15}, \"zerolinecolor\": \"white\", \"zerolinewidth\": 2}}}, \"title\": {\"text\": \"Optimization History Plot\"}, \"xaxis\": {\"title\": {\"text\": \"#Trials\"}}, \"yaxis\": {\"title\": {\"text\": \"Objective Value\"}}},\n",
              "                        {\"responsive\": true}\n",
              "                    ).then(function(){\n",
              "                            \n",
              "var gd = document.getElementById('887dc47b-4b03-45ad-a82d-807ce08edd2e');\n",
              "var x = new MutationObserver(function (mutations, observer) {{\n",
              "        var display = window.getComputedStyle(gd).display;\n",
              "        if (!display || display === 'none') {{\n",
              "            console.log([gd, 'removed!']);\n",
              "            Plotly.purge(gd);\n",
              "            observer.disconnect();\n",
              "        }}\n",
              "}});\n",
              "\n",
              "// Listen for the removal of the full notebook cells\n",
              "var notebookContainer = gd.closest('#notebook-container');\n",
              "if (notebookContainer) {{\n",
              "    x.observe(notebookContainer, {childList: true});\n",
              "}}\n",
              "\n",
              "// Listen for the clearing of the current output cell\n",
              "var outputEl = gd.closest('.output');\n",
              "if (outputEl) {{\n",
              "    x.observe(outputEl, {childList: true});\n",
              "}}\n",
              "\n",
              "                        })\n",
              "                };\n",
              "                \n",
              "            </script>\n",
              "        </div>\n",
              "</body>\n",
              "</html>"
            ]
          },
          "metadata": {}
        }
      ]
    },
    {
      "cell_type": "code",
      "metadata": {
        "colab": {
          "base_uri": "https://localhost:8080/"
        },
        "id": "LSrROxwVJxir",
        "outputId": "f9fc690d-ee62-4872-e3d7-0c869f86e27b"
      },
      "source": [
        "clf = sklearn.svm.SVC (kernel='rbf', C=2.206225165264988,gamma=4.270221263739784)\n",
        "clf.fit(X_train,y_train)\n",
        "pred_y = clf.predict(X_test)"
      ],
      "execution_count": null,
      "outputs": [
        {
          "output_type": "stream",
          "text": [
            "/usr/local/lib/python3.7/dist-packages/sklearn/utils/validation.py:760: DataConversionWarning:\n",
            "\n",
            "A column-vector y was passed when a 1d array was expected. Please change the shape of y to (n_samples, ), for example using ravel().\n",
            "\n"
          ],
          "name": "stderr"
        }
      ]
    },
    {
      "cell_type": "code",
      "metadata": {
        "colab": {
          "base_uri": "https://localhost:8080/"
        },
        "id": "eCJkdyE7S5aK",
        "outputId": "4ecf152e-9f51-426c-9140-c404dfb8c62a"
      },
      "source": [
        "# 혼동행렬, 정확도, 정밀도, 재현율, F1, AUC 불러오기\n",
        "from sklearn.metrics import accuracy_score, precision_score, recall_score, roc_auc_score\n",
        "from sklearn.metrics import f1_score, confusion_matrix, precision_recall_curve, roc_curve\n",
        "def get_clf_eval(y_test, y_pred):\n",
        "    confusion = confusion_matrix(y_test, y_pred)\n",
        "    accuracy = accuracy_score(y_test, y_pred)\n",
        "    precision = precision_score(y_test, y_pred)\n",
        "    recall = recall_score(y_test, y_pred)\n",
        "    F1 = f1_score(y_test, y_pred)\n",
        "    AUC = roc_auc_score(y_test, y_pred)\n",
        "    print('오차행렬:\\n', confusion)\n",
        "    print('\\n정확도: {:.4f}'.format(accuracy))\n",
        "    print('정밀도: {:.4f}'.format(precision))\n",
        "    print('재현율: {:.4f}'.format(recall))\n",
        "    print('F1: {:.4f}'.format(F1))\n",
        "    print('AUC: {:.4f}'.format(AUC))\n",
        "\n",
        "# 0.7107\n",
        "# 0.8289\n",
        "# 0.8398\n",
        "# 0.8429\n",
        "# 0.8445\n",
        "#0.8445\n",
        "#0.8367\n",
        "get_clf_eval(y_test, pred_y)"
      ],
      "execution_count": null,
      "outputs": [
        {
          "output_type": "stream",
          "text": [
            "오차행렬:\n",
            " [[335  31]\n",
            " [ 69 208]]\n",
            "\n",
            "정확도: 0.8445\n",
            "정밀도: 0.8703\n",
            "재현율: 0.7509\n",
            "F1: 0.8062\n",
            "AUC: 0.8331\n"
          ],
          "name": "stdout"
        }
      ]
    }
  ]
}