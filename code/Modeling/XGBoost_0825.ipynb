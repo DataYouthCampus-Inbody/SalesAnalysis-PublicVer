{
 "cells": [
  {
   "cell_type": "code",
   "execution_count": 2,
   "id": "baf65bcf",
   "metadata": {},
   "outputs": [
    {
     "name": "stdout",
     "output_type": "stream",
     "text": [
      "Collecting xgboost\n",
      "  Downloading xgboost-1.4.2-py3-none-win_amd64.whl (97.8 MB)\n",
      "Requirement already satisfied: scipy in c:\\users\\dksle\\anaconda3\\envs\\tensorflow\\lib\\site-packages (from xgboost) (1.7.0)\n",
      "Requirement already satisfied: numpy in c:\\users\\dksle\\anaconda3\\envs\\tensorflow\\lib\\site-packages (from xgboost) (1.19.5)\n",
      "Installing collected packages: xgboost\n",
      "Successfully installed xgboost-1.4.2\n"
     ]
    },
    {
     "data": {
      "text/plain": [
       "<AxesSubplot:title={'center':'Feature importance'}, xlabel='F score', ylabel='Features'>"
      ]
     },
     "execution_count": 2,
     "metadata": {},
     "output_type": "execute_result"
    },
    {
     "data": {
      "image/png": "[encoded data removed]",
      "text/plain": [
       "<Figure size 432x288 with 1 Axes>"
      ]
     },
     "metadata": {
      "needs_background": "light"
     },
     "output_type": "display_data"
    }
   ],
   "source": [
    "\"\"\"\n",
    "시나리오 2 : Multioutput Regression with XGBoost 활용하여 해당 달의 추후 12개월간의 매출 예측\n",
    "\"\"\"\n",
    "! pip install xgboost\n",
    "import pandas as pd\n",
    "from sklearn import preprocessing\n",
    "import numpy as np\n",
    "import matplotlib.pyplot as plt\n",
    "from datetime import datetime\n",
    "import xgboost as xgb\n",
    "from xgboost import plot_importance, plot_tree\n",
    "from xgboost import XGBRegressor\n",
    "\n",
    "# Load the Dataset\n",
    "revenue = pd.read_csv('../../resource/Model_Input/Monthly_zoho.csv')\n",
    "features_considered = ['DealScore', 'LeadScore', 'ConvertedRate', 'DealNum', 'LeadNum', 'Net']\n",
    "revenue = revenue[features_considered]\n",
    "\n",
    "# Min-Max Scaling\n",
    "# scaler = preprocessing.MinMaxScaler(feature_range=(0, 1))\n",
    "# scaler = scaler.fit(revenue) #값을 0~1로 떨어뜨린다\n",
    "# scaled = scaler.transform(revenue) #값을 0~1로 떨어뜨린다\n",
    "# # print(scaled)\n",
    "# x = []\n",
    "# y = []\n",
    "# for row in revenue.index :\n",
    "#     if (row+13 <= len(revenue)):\n",
    "#         x.append(revenue.iloc[row])\n",
    "#         y.append(list(revenue.iloc[row+1:row+13, -1]))\n",
    "#     else: break\n",
    "#\n",
    "# x = pd.DataFrame(x)\n",
    "# print(y)\n",
    "\n",
    "\n",
    "# 학습과 테스트 데이터 분리\n",
    "split = 45\n",
    "df_train = revenue[:split]\n",
    "df_test = revenue[split:]\n",
    "\n",
    "df_train_y = df_train.loc[:,'Net']\n",
    "df_train_x = df_train.drop('Net', axis=1)\n",
    "df_test_y = df_test.loc[:,'Net']\n",
    "df_test_x = df_test.drop('Net', axis=1)\n",
    "\n",
    "XG_model_month = xgb.XGBRegressor(n_estimators=1000)\n",
    "XG_model_month.fit(df_train_x, df_train_y, eval_set=[(df_test_x, df_test_y)], early_stopping_rounds=50,verbose=False)\n",
    "\n",
    "# 주요하게 적용하는 변수를 판단\n",
    "plot_importance(XG_model_month, height=0.9)\n"
   ]
  },
  {
   "cell_type": "code",
   "execution_count": null,
   "id": "7e1f10c2",
   "metadata": {},
   "outputs": [],
   "source": []
  }
 ],
 "metadata": {
  "kernelspec": {
   "display_name": "Python 3",
   "language": "python",
   "name": "python3"
  },
  "language_info": {
   "codemirror_mode": {
    "name": "ipython",
    "version": 3
   },
   "file_extension": ".py",
   "mimetype": "text/x-python",
   "name": "python",
   "nbconvert_exporter": "python",
   "pygments_lexer": "ipython3",
   "version": "3.7.10"
  }
 },
 "nbformat": 4,
 "nbformat_minor": 5
}
