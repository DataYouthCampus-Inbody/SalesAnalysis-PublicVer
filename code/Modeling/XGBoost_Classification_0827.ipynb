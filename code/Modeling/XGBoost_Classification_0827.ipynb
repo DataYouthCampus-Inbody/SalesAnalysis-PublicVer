{
  "nbformat": 4,
  "nbformat_minor": 0,
  "metadata": {
    "colab": {
      "name": "XGBoost_Classification_0827.ipynb",
      "provenance": [],
      "collapsed_sections": []
    },
    "kernelspec": {
      "name": "python3",
      "display_name": "Python 3"
    },
    "language_info": {
      "name": "python"
    }
  },
  "cells": [
    {
      "cell_type": "code",
      "metadata": {
        "id": "eAoMlZn1ZnOD",
        "colab": {
          "base_uri": "https://localhost:8080/"
        },
        "outputId": "a6f99fa6-6764-4f33-f586-3044067f384d"
      },
      "source": [
        "# Load the Module\n",
        "from xgboost import XGBClassifier\n",
        "from sklearn import preprocessing\n",
        "from sklearn.metrics import accuracy_score\n",
        "import pandas as pd\n",
        "from sklearn.model_selection import train_test_split\n",
        "from google.colab import drive\n",
        "import pandas as pd\n",
        "drive.mount('/content/drive')"
      ],
      "execution_count": 72,
      "outputs": [
        {
          "output_type": "stream",
          "text": [
            "Drive already mounted at /content/drive; to attempt to forcibly remount, call drive.mount(\"/content/drive\", force_remount=True).\n"
          ],
          "name": "stdout"
        }
      ]
    },
    {
      "cell_type": "code",
      "metadata": {
        "id": "8ju6BRFBdvIJ",
        "colab": {
          "base_uri": "https://localhost:8080/"
        },
        "outputId": "20d9ee81-2cd1-42c7-bd55-baa9c4845838"
      },
      "source": [
        "# Load the Dataset\n",
        "deal = pd.read_csv('/content/drive/MyDrive/데청캠_인바디/ZohoCRM_Dataset/deal_closed_prediction_data.csv')\n",
        "\n",
        "print(deal)\n",
        "\n",
        "X = deal[['Year', 'Month', 'Day', 'LeadSource', 'Territory', 'Industry']]\n",
        "y = deal[['Stage']]\n",
        "\n",
        "print(y.value_counts())\n",
        "\n",
        "# Min-Max Scaling\n",
        "scaler = preprocessing.MinMaxScaler(feature_range=(0, 1))\n",
        "scaler = scaler.fit(X) \n",
        "scaled = scaler.transform(X) \n",
        "scaled_X = pd.DataFrame(scaled,columns=['Year', 'Month', 'Day', 'LeadSource', 'Territory', 'Industry'])\n"
      ],
      "execution_count": 80,
      "outputs": [
        {
          "output_type": "stream",
          "text": [
            "      Year  Month  Day  LeadSource    Territory       Industry  Stage\n",
            "0     2017      2    7    0.000458    50.000000  132320.620804      0\n",
            "1     2017      2    7    0.000458    50.000000  132320.620804      0\n",
            "2     2017      2    7    0.000458  3430.305858  132320.620804      1\n",
            "3     2017      2    7    0.000458  1394.639984   61963.087644      1\n",
            "4     2017      2   14    0.000458    50.000000  132320.620804      1\n",
            "...    ...    ...  ...         ...          ...            ...    ...\n",
            "2136  2021      7   24   32.692308   645.756033    1430.564418      0\n",
            "2137  2021      7   26   25.000000   645.756033    1430.564418      0\n",
            "2138  2021      7   26   25.000000  1014.059096    2727.317659      0\n",
            "2139  2021      7   26   40.384615   645.756033    2727.317659      0\n",
            "2140  2021      7   26   32.692308   645.756033    1073.495543      0\n",
            "\n",
            "[2141 rows x 7 columns]\n",
            "Stage\n",
            "0        1212\n",
            "1         929\n",
            "dtype: int64\n"
          ],
          "name": "stdout"
        }
      ]
    },
    {
      "cell_type": "code",
      "metadata": {
        "colab": {
          "base_uri": "https://localhost:8080/"
        },
        "id": "xGeLDS85efg4",
        "outputId": "14076715-79d4-4f5a-9391-cb79d3693b23"
      },
      "source": [
        "# Split the Dataset\n",
        "X_train, X_test, y_train, y_test = train_test_split(scaled_X , y, test_size=0.3, random_state=1)\n",
        "\n",
        "print(X_train.shape)\n",
        "print(y_test.shape)"
      ],
      "execution_count": 81,
      "outputs": [
        {
          "output_type": "stream",
          "text": [
            "(1498, 6)\n",
            "(643, 1)\n"
          ],
          "name": "stdout"
        }
      ]
    },
    {
      "cell_type": "code",
      "metadata": {
        "colab": {
          "base_uri": "https://localhost:8080/"
        },
        "id": "p6zMIwIUe-nb",
        "outputId": "f5bc7d8f-b253-4b4c-f889-4652bd12a36c"
      },
      "source": [
        "model = XGBClassifier(booster='gbtree',n_estimators= 200, learning_rate=0.04, gamma=1.3, silent=0,reg_alpha=.1,reg_lambda=1.34,\n",
        "                      max_depth=7, objective='binary:logistic')\n",
        "model.fit(X_train, y_train)\n",
        "print('Accuracy of Train : ',model.score(X_train,y_train)*100,'%')\n",
        "pred_y = model.predict(X_test)"
      ],
      "execution_count": 130,
      "outputs": [
        {
          "output_type": "stream",
          "text": [
            "/usr/local/lib/python3.7/dist-packages/sklearn/preprocessing/_label.py:235: DataConversionWarning: A column-vector y was passed when a 1d array was expected. Please change the shape of y to (n_samples, ), for example using ravel().\n",
            "  y = column_or_1d(y, warn=True)\n",
            "/usr/local/lib/python3.7/dist-packages/sklearn/preprocessing/_label.py:268: DataConversionWarning: A column-vector y was passed when a 1d array was expected. Please change the shape of y to (n_samples, ), for example using ravel().\n",
            "  y = column_or_1d(y, warn=True)\n"
          ],
          "name": "stderr"
        },
        {
          "output_type": "stream",
          "text": [
            "Accuracy of Train :  91.52202937249666 %\n"
          ],
          "name": "stdout"
        }
      ]
    },
    {
      "cell_type": "code",
      "metadata": {
        "colab": {
          "base_uri": "https://localhost:8080/"
        },
        "id": "vzB6gnK-h1yX",
        "outputId": "3f5170e4-b093-4401-e414-92c7bbc677ab"
      },
      "source": [
        "# 혼동행렬, 정확도, 정밀도, 재현율, F1, AUC 불러오기\n",
        "from sklearn.metrics import accuracy_score, precision_score, recall_score, roc_auc_score\n",
        "from sklearn.metrics import f1_score, confusion_matrix, precision_recall_curve, roc_curve\n",
        "def get_clf_eval(y_test, y_pred):\n",
        "    confusion = confusion_matrix(y_test, y_pred)\n",
        "    accuracy = accuracy_score(y_test, y_pred)\n",
        "    precision = precision_score(y_test, y_pred)\n",
        "    recall = recall_score(y_test, y_pred)\n",
        "    F1 = f1_score(y_test, y_pred)\n",
        "    AUC = roc_auc_score(y_test, y_pred)\n",
        "    print('오차행렬:\\n', confusion)\n",
        "    print('\\n정확도: {:.4f}'.format(accuracy))\n",
        "    print('정밀도: {:.4f}'.format(precision))\n",
        "    print('재현율: {:.4f}'.format(recall))\n",
        "    print('F1: {:.4f}'.format(F1))\n",
        "    print('AUC: {:.4f}'.format(AUC))\n",
        "\n",
        "# 0.8740\n",
        "# 0.8756\n",
        "get_clf_eval(y_test, pred_y)"
      ],
      "execution_count": 131,
      "outputs": [
        {
          "output_type": "stream",
          "text": [
            "오차행렬:\n",
            " [[333  33]\n",
            " [ 47 230]]\n",
            "\n",
            "정확도: 0.8756\n",
            "정밀도: 0.8745\n",
            "재현율: 0.8303\n",
            "F1: 0.8519\n",
            "AUC: 0.8701\n"
          ],
          "name": "stdout"
        }
      ]
    },
    {
      "cell_type": "code",
      "metadata": {
        "colab": {
          "base_uri": "https://localhost:8080/",
          "height": 748
        },
        "id": "jRPdhFhifElO",
        "outputId": "47e8a611-458b-4246-ceae-fadd4c2e31b6"
      },
      "source": [
        "import matplotlib.pyplot as plt\n",
        "from xgboost import plot_importance\n",
        "# 특성 중요도 시각화\n",
        "fig, ax = plt.subplots(figsize=(10,12))\n",
        "plot_importance(model, ax=ax)"
      ],
      "execution_count": 132,
      "outputs": [
        {
          "output_type": "execute_result",
          "data": {
            "text/plain": [
              "<matplotlib.axes._subplots.AxesSubplot at 0x7f0007eecfd0>"
            ]
          },
          "metadata": {},
          "execution_count": 132
        },
        {
          "output_type": "display_data",
          "data": {
            "image/png": "[encoded data removed]",
            "text/plain": [
              "<Figure size 720x864 with 1 Axes>"
            ]
          },
          "metadata": {
            "needs_background": "light"
          }
        }
      ]
    },
    {
      "cell_type": "code",
      "metadata": {
        "id": "qv5hMraGhKwt"
      },
      "source": [
        ""
      ],
      "execution_count": null,
      "outputs": []
    }
  ]
}