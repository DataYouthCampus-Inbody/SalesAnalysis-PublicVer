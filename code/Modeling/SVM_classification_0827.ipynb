{
  "nbformat": 4,
  "nbformat_minor": 0,
  "metadata": {
    "colab": {
      "name": "SVM_classification_0827.ipynb",
      "provenance": [],
      "collapsed_sections": []
    },
    "kernelspec": {
      "name": "python3",
      "display_name": "Python 3"
    },
    "language_info": {
      "name": "python"
    }
  },
  "cells": [
    {
      "cell_type": "code",
      "metadata": {
        "colab": {
          "base_uri": "https://localhost:8080/"
        },
        "id": "uDKJR5mkmLA-",
        "outputId": "b2d809cd-d282-4813-c63d-f5328bb14d35"
      },
      "source": [
        "import numpy as np\n",
        "import matplotlib.pyplot as plt\n",
        "from sklearn import svm\n",
        "from sklearn.preprocessing import StandardScaler\n",
        "from google.colab import drive\n",
        "import pandas as pd\n",
        "from sklearn.model_selection import train_test_split\n",
        "from sklearn import preprocessing\n",
        "drive.mount('/content/drive')\n",
        "\n"
      ],
      "execution_count": 60,
      "outputs": [
        {
          "output_type": "stream",
          "text": [
            "Drive already mounted at /content/drive; to attempt to forcibly remount, call drive.mount(\"/content/drive\", force_remount=True).\n"
          ],
          "name": "stdout"
        }
      ]
    },
    {
      "cell_type": "code",
      "metadata": {
        "colab": {
          "base_uri": "https://localhost:8080/"
        },
        "id": "hbJ-fiqnrFrp",
        "outputId": "f2506a0f-6470-4b8a-e846-a59c565baed9"
      },
      "source": [
        "# Load the Dataset\n",
        "deal = pd.read_csv('/content/drive/MyDrive/데청캠_인바디/ZohoCRM_Dataset/deal_closed_prediction_data.csv')\n",
        "\n",
        "print(deal)\n",
        "\n",
        "X = deal[['Year', 'Month', 'Day', 'LeadSource', 'Territory', 'Industry']]\n",
        "y = deal[['Stage']]\n",
        "\n",
        "print(y.value_counts())\n",
        "\n",
        "# StandarScaler 적용\n",
        "# scaler = StandardScaler()\n",
        "# scaler.fit(X)\n",
        "# X_scaled = scaler.transform(X)\n",
        "\n",
        "# Min-Max Scaling\n",
        "scaler = preprocessing.MinMaxScaler(feature_range=(0, 1))\n",
        "scaler = scaler.fit(X) \n",
        "scaled = scaler.transform(X) "
      ],
      "execution_count": 61,
      "outputs": [
        {
          "output_type": "stream",
          "text": [
            "      Year  Month  Day  LeadSource    Territory       Industry  Stage\n",
            "0     2017      2    7    0.000458    50.000000  132320.620804      0\n",
            "1     2017      2    7    0.000458    50.000000  132320.620804      0\n",
            "2     2017      2    7    0.000458  3430.305858  132320.620804      1\n",
            "3     2017      2    7    0.000458  1394.639984   61963.087644      1\n",
            "4     2017      2   14    0.000458    50.000000  132320.620804      1\n",
            "...    ...    ...  ...         ...          ...            ...    ...\n",
            "2136  2021      7   24   32.692308   645.756033    1430.564418      0\n",
            "2137  2021      7   26   25.000000   645.756033    1430.564418      0\n",
            "2138  2021      7   26   25.000000  1014.059096    2727.317659      0\n",
            "2139  2021      7   26   40.384615   645.756033    2727.317659      0\n",
            "2140  2021      7   26   32.692308   645.756033    1073.495543      0\n",
            "\n",
            "[2141 rows x 7 columns]\n",
            "Stage\n",
            "0        1212\n",
            "1         929\n",
            "dtype: int64\n"
          ],
          "name": "stdout"
        }
      ]
    },
    {
      "cell_type": "code",
      "metadata": {
        "colab": {
          "base_uri": "https://localhost:8080/"
        },
        "id": "UEYwA7_JQE5C",
        "outputId": "8c041b47-fbac-490d-c7cb-3cf6121ecd88"
      },
      "source": [
        "# Split the Dataset\n",
        "X_train, X_test, y_train, y_test = train_test_split(X_scaled , y, test_size=0.3, random_state=1)\n",
        "\n",
        "print(X_train.shape)\n",
        "print(y_test.shape)"
      ],
      "execution_count": 62,
      "outputs": [
        {
          "output_type": "stream",
          "text": [
            "(1498, 6)\n",
            "(643, 1)\n"
          ],
          "name": "stdout"
        }
      ]
    },
    {
      "cell_type": "code",
      "metadata": {
        "colab": {
          "base_uri": "https://localhost:8080/"
        },
        "id": "o3hXAoNpRR5o",
        "outputId": "43b44229-d2f9-4caf-92cc-d3d2382a9dc4"
      },
      "source": [
        "import sklearn.svm as svm\n",
        "import sklearn.metrics as mt\n",
        "from sklearn.model_selection import cross_val_score, cross_validate\n",
        "from sklearn.model_selection import GridSearchCV\n",
        "\n",
        "\n",
        "# Test1 : 선형 분리(linear) -  80.64085447263018 %\n",
        "\n",
        "parameters = {'kernel':['rbf','linear','poly'],\n",
        "              'C': [.1,.05,1, 10,15,20, 25,50],\n",
        "              'gamma': [.1,.2,.3,.05,.001]}\n",
        "\n",
        "model = svm.SVC(kernel = 'rbf',verbose=0)\n",
        "\n",
        "grid_svm = GridSearchCV(model,\n",
        "                      param_grid = parameters, cv = 5)\n",
        "\n",
        "grid_svm.fit(X_train, y_train.values.ravel())\n",
        "print('Accuracy of Train : ',grid_svm.score(X_train,y_train)*100,'%')\n",
        "# {'C': 1, 'gamma': 1}\n",
        "# {'C': 15, 'gamma': 0.2, 'kernel': 'rbf'}\n",
        "print('Best Params : ',grid_svm.best_params_)\n",
        "pred_y = grid_svm.predict(X_test)"
      ],
      "execution_count": 80,
      "outputs": [
        {
          "output_type": "stream",
          "text": [
            "Accuracy of Train :  88.4512683578104 %\n",
            "Best Params :  {'C': 15, 'gamma': 0.2, 'kernel': 'rbf'}\n"
          ],
          "name": "stdout"
        }
      ]
    },
    {
      "cell_type": "code",
      "metadata": {
        "colab": {
          "base_uri": "https://localhost:8080/"
        },
        "id": "eCJkdyE7S5aK",
        "outputId": "c3c80d14-3829-4f2a-b776-3cac3c95af6b"
      },
      "source": [
        "# 혼동행렬, 정확도, 정밀도, 재현율, F1, AUC 불러오기\n",
        "from sklearn.metrics import accuracy_score, precision_score, recall_score, roc_auc_score\n",
        "from sklearn.metrics import f1_score, confusion_matrix, precision_recall_curve, roc_curve\n",
        "def get_clf_eval(y_test, y_pred):\n",
        "    confusion = confusion_matrix(y_test, y_pred)\n",
        "    accuracy = accuracy_score(y_test, y_pred)\n",
        "    precision = precision_score(y_test, y_pred)\n",
        "    recall = recall_score(y_test, y_pred)\n",
        "    F1 = f1_score(y_test, y_pred)\n",
        "    AUC = roc_auc_score(y_test, y_pred)\n",
        "    print('오차행렬:\\n', confusion)\n",
        "    print('\\n정확도: {:.4f}'.format(accuracy))\n",
        "    print('정밀도: {:.4f}'.format(precision))\n",
        "    print('재현율: {:.4f}'.format(recall))\n",
        "    print('F1: {:.4f}'.format(F1))\n",
        "    print('AUC: {:.4f}'.format(AUC))\n",
        "\n",
        "# 0.7107\n",
        "# 0.8289\n",
        "# 0.8398\n",
        "# 0.8429\n",
        "get_clf_eval(y_test, pred_y)"
      ],
      "execution_count": 81,
      "outputs": [
        {
          "output_type": "stream",
          "text": [
            "오차행렬:\n",
            " [[329  37]\n",
            " [ 64 213]]\n",
            "\n",
            "정확도: 0.8429\n",
            "정밀도: 0.8520\n",
            "재현율: 0.7690\n",
            "F1: 0.8083\n",
            "AUC: 0.8339\n"
          ],
          "name": "stdout"
        }
      ]
    }
  ]
}