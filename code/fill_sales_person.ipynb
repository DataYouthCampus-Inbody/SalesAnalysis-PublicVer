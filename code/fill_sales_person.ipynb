{
 "cells": [
  {
   "cell_type": "code",
   "execution_count": 62,
   "source": [
    "import pandas as pd\n",
    "import re"
   ],
   "outputs": [],
   "metadata": {}
  },
  {
   "cell_type": "code",
   "execution_count": 63,
   "source": [
    "path='../resource/CleansedData/ParsedData/'\n",
    "file_name='Accounts_001_droppedCol'\n",
    "csv=pd.read_csv(path+file_name+'.csv')\n",
    "save_as='../resource/CleansedData/ModifiedData/Accounts_001_droppedCol_deleted_korean.csv'"
   ],
   "outputs": [],
   "metadata": {}
  },
  {
   "cell_type": "code",
   "execution_count": 64,
   "source": [
    "people=set()\n",
    "for person in csv['Sales Person']:\n",
    "        people.add(str(person))\n"
   ],
   "outputs": [],
   "metadata": {}
  },
  {
   "cell_type": "code",
   "execution_count": 73,
   "source": [
    "csv.count()"
   ],
   "outputs": [
    {
     "output_type": "execute_result",
     "data": {
      "text/plain": [
       "Record Id             7132\n",
       "Company Owner ID      7132\n",
       "Sales Person          1625\n",
       "Rating                6898\n",
       "Company Name          7132\n",
       "Company Type           257\n",
       "Industry              2669\n",
       "Sub industry           108\n",
       "Territories           3961\n",
       "Shipping Street       1264\n",
       "Shipping City         1191\n",
       "Shipping State           1\n",
       "Shipping State-       1189\n",
       "Shipping Code         1036\n",
       "Billing Street        3854\n",
       "Billing City          4943\n",
       "Billing State          421\n",
       "Billing State-        4192\n",
       "Billing Code          2187\n",
       "Description           1342\n",
       "Custmer ID               5\n",
       "Product               5410\n",
       "Tag                      4\n",
       "Created by ID         7132\n",
       "Modified by ID        7132\n",
       "Created Time          7132\n",
       "Modified Time         7132\n",
       "Last Activity Time    6828\n",
       "dtype: int64"
      ]
     },
     "metadata": {},
     "execution_count": 73
    }
   ],
   "metadata": {}
  },
  {
   "cell_type": "code",
   "execution_count": 65,
   "source": [
    "print(people)"
   ],
   "outputs": [
    {
     "output_type": "stream",
     "name": "stdout",
     "text": [
      "{'Nihal Pawar', 'Mohammad Afnan', 'Gurraj Singh', 'Abhinanda Ghosh', 'Kenneth Cha', 'Mahesh Gulwani', 'nan', 'Ashwini Dixit', 'Nasir', 'Mrunal Sardar', 'Neelabh Kashyap', 'Anees Mukhtar', 'Aaruni Sinha', 'Ankita', 'Puneet Shukla', 'Taukheer Ahmed', 'Karn Sharma', 'Chris Shin', 'Arun Sharma', 'Dixiata Sharma', 'CS/Amazon/Other', 'Ayan', 'Prasad Gosavi', 'Shubham Tonk'}\n"
     ]
    }
   ],
   "metadata": {}
  },
  {
   "cell_type": "code",
   "execution_count": 66,
   "source": [
    "mapping=dict()\n",
    "\n",
    "for person in people:\n",
    "    mapping[person]=set()\n"
   ],
   "outputs": [],
   "metadata": {}
  },
  {
   "cell_type": "code",
   "execution_count": 67,
   "source": [
    "print(mapping)"
   ],
   "outputs": [
    {
     "output_type": "stream",
     "name": "stdout",
     "text": [
      "{'Nihal Pawar': set(), 'Mohammad Afnan': set(), 'Gurraj Singh': set(), 'Abhinanda Ghosh': set(), 'Kenneth Cha': set(), 'Mahesh Gulwani': set(), 'nan': set(), 'Ashwini Dixit': set(), 'Nasir': set(), 'Mrunal Sardar': set(), 'Neelabh Kashyap': set(), 'Anees Mukhtar': set(), 'Aaruni Sinha': set(), 'Ankita': set(), 'Puneet Shukla': set(), 'Taukheer Ahmed': set(), 'Karn Sharma': set(), 'Chris Shin': set(), 'Arun Sharma': set(), 'Dixiata Sharma': set(), 'CS/Amazon/Other': set(), 'Ayan': set(), 'Prasad Gosavi': set(), 'Shubham Tonk': set()}\n"
     ]
    }
   ],
   "metadata": {}
  },
  {
   "cell_type": "code",
   "execution_count": 68,
   "source": [
    "for i in range(len(csv['Sales Person'])):\n",
    "    if csv['Sales Person'][i] in people:\n",
    "        mapping[csv['Sales Person'][i]].add(csv['Territories'][i])\n",
    "\n",
    "'''\n",
    "for sales in csv['Sales Person']:\n",
    "    for person in people:\n",
    "        if sales == person:\n",
    "'''\n",
    "        \n",
    "\n"
   ],
   "outputs": [
    {
     "output_type": "execute_result",
     "data": {
      "text/plain": [
       "\"\\nfor sales in csv['Sales Person']:\\n    for person in people:\\n        if sales == person:\\n\""
      ]
     },
     "metadata": {},
     "execution_count": 68
    }
   ],
   "metadata": {}
  },
  {
   "cell_type": "code",
   "execution_count": 69,
   "source": [
    "print(mapping)"
   ],
   "outputs": [
    {
     "output_type": "stream",
     "name": "stdout",
     "text": [
      "{'Nihal Pawar': {nan, 'East', 'South', 'West 1'}, 'Mohammad Afnan': {'West 1'}, 'Gurraj Singh': {'West 1'}, 'Abhinanda Ghosh': {'West 1'}, 'Kenneth Cha': {'North', 'South', 'West 1'}, 'Mahesh Gulwani': {nan, 'West 1', 'West 2', 'North', 'East', 'North, West 1', 'North, West 2'}, 'nan': set(), 'Ashwini Dixit': {nan, 'West 2', 'West 1', 'North', 'East'}, 'Nasir': {nan, 'East'}, 'Mrunal Sardar': {'North', 'West 1'}, 'Neelabh Kashyap': {'West 1'}, 'Anees Mukhtar': {nan, 'West 2', 'West 1', 'North', 'South'}, 'Aaruni Sinha': {nan, 'North', 'West 1'}, 'Ankita': {'South', 'West 1'}, 'Puneet Shukla': {'North'}, 'Taukheer Ahmed': {nan, 'South'}, 'Karn Sharma': {nan, 'South, North', 'South, West 1', 'West 1', 'West 2', 'North', 'North, East', 'East', 'South', 'North, West 1'}, 'Chris Shin': {nan, 'North', 'West 2', 'West 1'}, 'Arun Sharma': {nan, 'North', 'East', 'South'}, 'Dixiata Sharma': {'South'}, 'CS/Amazon/Other': {'North', 'South', 'West 1'}, 'Ayan': {'East', 'West 1'}, 'Prasad Gosavi': {'North', 'West 1'}, 'Shubham Tonk': {nan, 'South, North', 'West 1', 'North', 'East', 'South'}}\n"
     ]
    }
   ],
   "metadata": {}
  },
  {
   "cell_type": "code",
   "execution_count": 70,
   "source": [
    "#Mohammad Afnan,Dixiata Sharma,Gurraj Singh,Abhinanda Ghosh, Nasir,Puneet Shukla,Neelabh Kashyap\n",
    "\n",
    "people=set()\n",
    "people.add('Mohammad Afnan')\n",
    "people.add('Dixiata Sharma')\n",
    "people.add('Gurraj Singh')\n",
    "people.add('Abhinanda Ghosh') \n",
    "people.add('Nasir')\n",
    "people.add('Puneet Shukla')\n",
    "people.add('Neelabh Kashyap')\n",
    "\n",
    "people\n"
   ],
   "outputs": [
    {
     "output_type": "execute_result",
     "data": {
      "text/plain": [
       "{'Abhinanda Ghosh',\n",
       " 'Dixiata Sharma',\n",
       " 'Gurraj Singh',\n",
       " 'Mohammad Afnan',\n",
       " 'Nasir',\n",
       " 'Neelabh Kashyap',\n",
       " 'Puneet Shukla'}"
      ]
     },
     "metadata": {},
     "execution_count": 70
    }
   ],
   "metadata": {}
  },
  {
   "cell_type": "code",
   "execution_count": 84,
   "source": [
    "count=0\n",
    "for i in range(len(csv['Territories'])):\n",
    "    if csv['Sales Person'][i] in people:\n",
    "        csv['Territories'][i] = mapping[person]\n",
    "        count+=1\n",
    "print(count)\n",
    "#csv"
   ],
   "outputs": [
    {
     "output_type": "stream",
     "name": "stdout",
     "text": [
      "91\n"
     ]
    }
   ],
   "metadata": {}
  },
  {
   "cell_type": "code",
   "execution_count": 83,
   "source": [
    "print(len(csv))\n",
    "# csv['Territories'].count(isnull())\n",
    "print(csv['Territories'].count())\n",
    "print(csv['Territories'].notna().sum() + csv['Territories'].isnull().sum())"
   ],
   "outputs": [
    {
     "output_type": "stream",
     "name": "stdout",
     "text": [
      "7132\n",
      "3961\n",
      "7132\n"
     ]
    }
   ],
   "metadata": {}
  },
  {
   "cell_type": "code",
   "execution_count": 61,
   "source": [
    "for person in csv['Sales Person']:\n",
    "    if person in people:\n",
    "        csv['Territories'] = mapping[person]\n",
    "csv = csv.to_csv(\"tst1.csv\")"
   ],
   "outputs": [
    {
     "output_type": "error",
     "ename": "TypeError",
     "evalue": "'NoneType' object is not subscriptable",
     "traceback": [
      "\u001b[0;31m---------------------------------------------------------------------------\u001b[0m",
      "\u001b[0;31mTypeError\u001b[0m                                 Traceback (most recent call last)",
      "\u001b[0;32m<ipython-input-61-bb1b6a4dfd38>\u001b[0m in \u001b[0;36m<module>\u001b[0;34m\u001b[0m\n\u001b[0;32m----> 1\u001b[0;31m \u001b[0;32mfor\u001b[0m \u001b[0mperson\u001b[0m \u001b[0;32min\u001b[0m \u001b[0mcsv\u001b[0m\u001b[0;34m[\u001b[0m\u001b[0;34m'Sales Person'\u001b[0m\u001b[0;34m]\u001b[0m\u001b[0;34m:\u001b[0m\u001b[0;34m\u001b[0m\u001b[0;34m\u001b[0m\u001b[0m\n\u001b[0m\u001b[1;32m      2\u001b[0m     \u001b[0;32mif\u001b[0m \u001b[0mperson\u001b[0m \u001b[0;32min\u001b[0m \u001b[0mpeople\u001b[0m\u001b[0;34m:\u001b[0m\u001b[0;34m\u001b[0m\u001b[0;34m\u001b[0m\u001b[0m\n\u001b[1;32m      3\u001b[0m         \u001b[0mcsv\u001b[0m\u001b[0;34m[\u001b[0m\u001b[0;34m'Territories'\u001b[0m\u001b[0;34m]\u001b[0m \u001b[0;34m=\u001b[0m \u001b[0mmapping\u001b[0m\u001b[0;34m[\u001b[0m\u001b[0mperson\u001b[0m\u001b[0;34m]\u001b[0m\u001b[0;34m\u001b[0m\u001b[0;34m\u001b[0m\u001b[0m\n\u001b[1;32m      4\u001b[0m \u001b[0mcsv\u001b[0m \u001b[0;34m=\u001b[0m \u001b[0mcsv\u001b[0m\u001b[0;34m.\u001b[0m\u001b[0mto_csv\u001b[0m\u001b[0;34m(\u001b[0m\u001b[0;34m\"tst1.csv\"\u001b[0m\u001b[0;34m)\u001b[0m\u001b[0;34m\u001b[0m\u001b[0;34m\u001b[0m\u001b[0m\n",
      "\u001b[0;31mTypeError\u001b[0m: 'NoneType' object is not subscriptable"
     ]
    }
   ],
   "metadata": {}
  },
  {
   "cell_type": "code",
   "execution_count": 10,
   "source": [
    "#한국말 있는지 확인\n",
    "korean=[]\n",
    "for row in csv['Full Name']:\n",
    "    hangul=re.compile('[ㄱ-ㅎ|가-힣]+')\n",
    "    #print(hangul.findall(row))\n",
    "    name=hangul.findall(row)\n",
    "    if len(name)!=0:\n",
    "        korean.append(name)\n",
    "korean"
   ],
   "outputs": [
    {
     "output_type": "execute_result",
     "data": {
      "text/plain": [
       "[]"
      ]
     },
     "metadata": {},
     "execution_count": 10
    }
   ],
   "metadata": {}
  },
  {
   "cell_type": "code",
   "execution_count": 13,
   "source": [
    "csv.to_csv(save_as)"
   ],
   "outputs": [],
   "metadata": {}
  },
  {
   "cell_type": "code",
   "execution_count": null,
   "source": [
    "#1.sales man이 NaN값인 row를 찾는다.\n",
    "\n",
    "#2.Customer Owner ID값을 통해 빈값을 채워 넣는다.(Customer Owner ID:\"Sales Person\"으로의 dict생성필요)\n",
    "#.territory값이 None값인 row를 찾는다."
   ],
   "outputs": [],
   "metadata": {}
  }
 ],
 "metadata": {
  "orig_nbformat": 4,
  "language_info": {
   "name": "python",
   "version": "3.8.10",
   "mimetype": "text/x-python",
   "codemirror_mode": {
    "name": "ipython",
    "version": 3
   },
   "pygments_lexer": "ipython3",
   "nbconvert_exporter": "python",
   "file_extension": ".py"
  },
  "kernelspec": {
   "name": "python3",
   "display_name": "Python 3.8.10 64-bit ('base': conda)"
  },
  "interpreter": {
   "hash": "3487794f711f8ca231291fa5deaa4d4e5fbd58ab164c12271b8f0b3dc534bcb9"
  }
 },
 "nbformat": 4,
 "nbformat_minor": 2
}